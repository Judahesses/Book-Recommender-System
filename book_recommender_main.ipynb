{
 "cells": [
  {
   "cell_type": "markdown",
   "metadata": {},
   "source": [
    "### Book Recommender"
   ]
  },
  {
   "cell_type": "markdown",
   "metadata": {},
   "source": [
    "## Imports"
   ]
  },
  {
   "cell_type": "code",
   "execution_count": 3,
   "metadata": {},
   "outputs": [],
   "source": [
    "import pandas as pd\n",
    "import numpy as np\n",
    "import time\n",
    "import matplotlib.pyplot as plt\n",
    "import seaborn as sns\n",
    "from scipy import sparse\n",
    "from sklearn.metrics.pairwise import pairwise_distances"
   ]
  },
  {
   "cell_type": "code",
   "execution_count": 4,
   "metadata": {},
   "outputs": [
    {
     "name": "stdout",
     "output_type": "stream",
     "text": [
      "Load Time: Approx. 6 minutes...\n",
      "\n",
      "\n"
     ]
    }
   ],
   "source": [
    "print('Load Time: Approx. 6 minutes...')\n",
    "print('\\n')"
   ]
  },
  {
   "cell_type": "markdown",
   "metadata": {},
   "source": [
    "## Data Manipulation - Pandas"
   ]
  },
  {
   "cell_type": "code",
   "execution_count": 5,
   "metadata": {},
   "outputs": [],
   "source": [
    "# import 0-5000 user data\n",
    "df_5000 = pd.read_csv('first_book_data')"
   ]
  },
  {
   "cell_type": "code",
   "execution_count": 6,
   "metadata": {},
   "outputs": [
    {
     "data": {
      "text/html": [
       "<div>\n",
       "<style scoped>\n",
       "    .dataframe tbody tr th:only-of-type {\n",
       "        vertical-align: middle;\n",
       "    }\n",
       "\n",
       "    .dataframe tbody tr th {\n",
       "        vertical-align: top;\n",
       "    }\n",
       "\n",
       "    .dataframe thead th {\n",
       "        text-align: right;\n",
       "    }\n",
       "</style>\n",
       "<table border=\"1\" class=\"dataframe\">\n",
       "  <thead>\n",
       "    <tr style=\"text-align: right;\">\n",
       "      <th></th>\n",
       "      <th>Unnamed: 0</th>\n",
       "      <th>Book</th>\n",
       "      <th>Rating</th>\n",
       "      <th>User</th>\n",
       "    </tr>\n",
       "  </thead>\n",
       "  <tbody>\n",
       "    <tr>\n",
       "      <th>92311</th>\n",
       "      <td>92311</td>\n",
       "      <td>Transparent Things</td>\n",
       "      <td>2</td>\n",
       "      <td>5000</td>\n",
       "    </tr>\n",
       "    <tr>\n",
       "      <th>92312</th>\n",
       "      <td>92312</td>\n",
       "      <td>King, Queen, Knave</td>\n",
       "      <td>3</td>\n",
       "      <td>5000</td>\n",
       "    </tr>\n",
       "    <tr>\n",
       "      <th>92313</th>\n",
       "      <td>92313</td>\n",
       "      <td>Bend Sinister</td>\n",
       "      <td>2</td>\n",
       "      <td>5000</td>\n",
       "    </tr>\n",
       "    <tr>\n",
       "      <th>92314</th>\n",
       "      <td>92314</td>\n",
       "      <td>Lolita</td>\n",
       "      <td>3</td>\n",
       "      <td>5000</td>\n",
       "    </tr>\n",
       "    <tr>\n",
       "      <th>92315</th>\n",
       "      <td>92315</td>\n",
       "      <td>Speak, Memory</td>\n",
       "      <td>3</td>\n",
       "      <td>5000</td>\n",
       "    </tr>\n",
       "  </tbody>\n",
       "</table>\n",
       "</div>"
      ],
      "text/plain": [
       "       Unnamed: 0                Book  Rating  User\n",
       "92311       92311  Transparent Things       2  5000\n",
       "92312       92312  King, Queen, Knave       3  5000\n",
       "92313       92313       Bend Sinister       2  5000\n",
       "92314       92314              Lolita       3  5000\n",
       "92315       92315       Speak, Memory       3  5000"
      ]
     },
     "execution_count": 6,
     "metadata": {},
     "output_type": "execute_result"
    }
   ],
   "source": [
    "df_5000.tail()"
   ]
  },
  {
   "cell_type": "code",
   "execution_count": 7,
   "metadata": {},
   "outputs": [],
   "source": [
    "# import 5000-10000 user data\n",
    "df_10000 = pd.read_csv('second_book_data')"
   ]
  },
  {
   "cell_type": "code",
   "execution_count": 8,
   "metadata": {},
   "outputs": [
    {
     "data": {
      "text/html": [
       "<div>\n",
       "<style scoped>\n",
       "    .dataframe tbody tr th:only-of-type {\n",
       "        vertical-align: middle;\n",
       "    }\n",
       "\n",
       "    .dataframe tbody tr th {\n",
       "        vertical-align: top;\n",
       "    }\n",
       "\n",
       "    .dataframe thead th {\n",
       "        text-align: right;\n",
       "    }\n",
       "</style>\n",
       "<table border=\"1\" class=\"dataframe\">\n",
       "  <thead>\n",
       "    <tr style=\"text-align: right;\">\n",
       "      <th></th>\n",
       "      <th>Unnamed: 0</th>\n",
       "      <th>Book</th>\n",
       "      <th>Rating</th>\n",
       "      <th>User</th>\n",
       "    </tr>\n",
       "  </thead>\n",
       "  <tbody>\n",
       "    <tr>\n",
       "      <th>87503</th>\n",
       "      <td>87503</td>\n",
       "      <td>خوبیِ خدا</td>\n",
       "      <td>2</td>\n",
       "      <td>9997</td>\n",
       "    </tr>\n",
       "    <tr>\n",
       "      <th>87504</th>\n",
       "      <td>87504</td>\n",
       "      <td>The Master and Margarita</td>\n",
       "      <td>4</td>\n",
       "      <td>10000</td>\n",
       "    </tr>\n",
       "    <tr>\n",
       "      <th>87505</th>\n",
       "      <td>87505</td>\n",
       "      <td>Suvashun</td>\n",
       "      <td>5</td>\n",
       "      <td>10000</td>\n",
       "    </tr>\n",
       "    <tr>\n",
       "      <th>87506</th>\n",
       "      <td>87506</td>\n",
       "      <td>The World of the Sufi: An Anthology of Writing...</td>\n",
       "      <td>3</td>\n",
       "      <td>10000</td>\n",
       "    </tr>\n",
       "    <tr>\n",
       "      <th>87507</th>\n",
       "      <td>87507</td>\n",
       "      <td>As I Lay Dying</td>\n",
       "      <td>4</td>\n",
       "      <td>10000</td>\n",
       "    </tr>\n",
       "  </tbody>\n",
       "</table>\n",
       "</div>"
      ],
      "text/plain": [
       "       Unnamed: 0                                               Book  Rating  \\\n",
       "87503       87503                                          خوبیِ خدا       2   \n",
       "87504       87504                           The Master and Margarita       4   \n",
       "87505       87505                                           Suvashun       5   \n",
       "87506       87506  The World of the Sufi: An Anthology of Writing...       3   \n",
       "87507       87507                                     As I Lay Dying       4   \n",
       "\n",
       "        User  \n",
       "87503   9997  \n",
       "87504  10000  \n",
       "87505  10000  \n",
       "87506  10000  \n",
       "87507  10000  "
      ]
     },
     "execution_count": 8,
     "metadata": {},
     "output_type": "execute_result"
    }
   ],
   "source": [
    "df_10000.tail()"
   ]
  },
  {
   "cell_type": "code",
   "execution_count": 9,
   "metadata": {},
   "outputs": [],
   "source": [
    "# import 10000-15000 user data\n",
    "df_15000 = pd.read_csv('third_book_data')"
   ]
  },
  {
   "cell_type": "code",
   "execution_count": 10,
   "metadata": {},
   "outputs": [
    {
     "data": {
      "text/html": [
       "<div>\n",
       "<style scoped>\n",
       "    .dataframe tbody tr th:only-of-type {\n",
       "        vertical-align: middle;\n",
       "    }\n",
       "\n",
       "    .dataframe tbody tr th {\n",
       "        vertical-align: top;\n",
       "    }\n",
       "\n",
       "    .dataframe thead th {\n",
       "        text-align: right;\n",
       "    }\n",
       "</style>\n",
       "<table border=\"1\" class=\"dataframe\">\n",
       "  <thead>\n",
       "    <tr style=\"text-align: right;\">\n",
       "      <th></th>\n",
       "      <th>Unnamed: 0</th>\n",
       "      <th>Book</th>\n",
       "      <th>Rating</th>\n",
       "      <th>User</th>\n",
       "    </tr>\n",
       "  </thead>\n",
       "  <tbody>\n",
       "    <tr>\n",
       "      <th>74851</th>\n",
       "      <td>74851</td>\n",
       "      <td>As I Lay Dying</td>\n",
       "      <td>4</td>\n",
       "      <td>14997</td>\n",
       "    </tr>\n",
       "    <tr>\n",
       "      <th>74852</th>\n",
       "      <td>74852</td>\n",
       "      <td>Light in August</td>\n",
       "      <td>4</td>\n",
       "      <td>14997</td>\n",
       "    </tr>\n",
       "    <tr>\n",
       "      <th>74853</th>\n",
       "      <td>74853</td>\n",
       "      <td>Absalom, Absalom!</td>\n",
       "      <td>5</td>\n",
       "      <td>14997</td>\n",
       "    </tr>\n",
       "    <tr>\n",
       "      <th>74854</th>\n",
       "      <td>74854</td>\n",
       "      <td>Wild Palms</td>\n",
       "      <td>5</td>\n",
       "      <td>14997</td>\n",
       "    </tr>\n",
       "    <tr>\n",
       "      <th>74855</th>\n",
       "      <td>74855</td>\n",
       "      <td>The Sound and the Fury</td>\n",
       "      <td>5</td>\n",
       "      <td>14997</td>\n",
       "    </tr>\n",
       "  </tbody>\n",
       "</table>\n",
       "</div>"
      ],
      "text/plain": [
       "       Unnamed: 0                    Book  Rating   User\n",
       "74851       74851          As I Lay Dying       4  14997\n",
       "74852       74852         Light in August       4  14997\n",
       "74853       74853       Absalom, Absalom!       5  14997\n",
       "74854       74854              Wild Palms       5  14997\n",
       "74855       74855  The Sound and the Fury       5  14997"
      ]
     },
     "execution_count": 10,
     "metadata": {},
     "output_type": "execute_result"
    }
   ],
   "source": [
    "df_15000.tail()"
   ]
  },
  {
   "cell_type": "code",
   "execution_count": 11,
   "metadata": {},
   "outputs": [],
   "source": [
    "# import 15000-20000 user data\n",
    "df_20000 = pd.read_csv('fourth_book_data')"
   ]
  },
  {
   "cell_type": "code",
   "execution_count": 12,
   "metadata": {},
   "outputs": [
    {
     "data": {
      "text/html": [
       "<div>\n",
       "<style scoped>\n",
       "    .dataframe tbody tr th:only-of-type {\n",
       "        vertical-align: middle;\n",
       "    }\n",
       "\n",
       "    .dataframe tbody tr th {\n",
       "        vertical-align: top;\n",
       "    }\n",
       "\n",
       "    .dataframe thead th {\n",
       "        text-align: right;\n",
       "    }\n",
       "</style>\n",
       "<table border=\"1\" class=\"dataframe\">\n",
       "  <thead>\n",
       "    <tr style=\"text-align: right;\">\n",
       "      <th></th>\n",
       "      <th>Unnamed: 0</th>\n",
       "      <th>Book</th>\n",
       "      <th>Rating</th>\n",
       "      <th>User</th>\n",
       "    </tr>\n",
       "  </thead>\n",
       "  <tbody>\n",
       "    <tr>\n",
       "      <th>89108</th>\n",
       "      <td>89108</td>\n",
       "      <td>Study Bible: NIV</td>\n",
       "      <td>5</td>\n",
       "      <td>20000</td>\n",
       "    </tr>\n",
       "    <tr>\n",
       "      <th>89109</th>\n",
       "      <td>89109</td>\n",
       "      <td>The Good Earth (House of Earth, #1)</td>\n",
       "      <td>4</td>\n",
       "      <td>20000</td>\n",
       "    </tr>\n",
       "    <tr>\n",
       "      <th>89110</th>\n",
       "      <td>89110</td>\n",
       "      <td>Memorias de una geisha</td>\n",
       "      <td>4</td>\n",
       "      <td>20000</td>\n",
       "    </tr>\n",
       "    <tr>\n",
       "      <th>89111</th>\n",
       "      <td>89111</td>\n",
       "      <td>Angela's Ashes (Frank McCourt, #1)</td>\n",
       "      <td>4</td>\n",
       "      <td>20000</td>\n",
       "    </tr>\n",
       "    <tr>\n",
       "      <th>89112</th>\n",
       "      <td>89112</td>\n",
       "      <td>Mere Christianity</td>\n",
       "      <td>4</td>\n",
       "      <td>20000</td>\n",
       "    </tr>\n",
       "  </tbody>\n",
       "</table>\n",
       "</div>"
      ],
      "text/plain": [
       "       Unnamed: 0                                 Book  Rating   User\n",
       "89108       89108                     Study Bible: NIV       5  20000\n",
       "89109       89109  The Good Earth (House of Earth, #1)       4  20000\n",
       "89110       89110               Memorias de una geisha       4  20000\n",
       "89111       89111   Angela's Ashes (Frank McCourt, #1)       4  20000\n",
       "89112       89112                    Mere Christianity       4  20000"
      ]
     },
     "execution_count": 12,
     "metadata": {},
     "output_type": "execute_result"
    }
   ],
   "source": [
    "df_20000.tail()"
   ]
  },
  {
   "cell_type": "code",
   "execution_count": 13,
   "metadata": {},
   "outputs": [],
   "source": [
    "# import 20000-25000 user data\n",
    "df_25000 = pd.read_csv('fifth_book_data')"
   ]
  },
  {
   "cell_type": "code",
   "execution_count": 14,
   "metadata": {},
   "outputs": [
    {
     "data": {
      "text/html": [
       "<div>\n",
       "<style scoped>\n",
       "    .dataframe tbody tr th:only-of-type {\n",
       "        vertical-align: middle;\n",
       "    }\n",
       "\n",
       "    .dataframe tbody tr th {\n",
       "        vertical-align: top;\n",
       "    }\n",
       "\n",
       "    .dataframe thead th {\n",
       "        text-align: right;\n",
       "    }\n",
       "</style>\n",
       "<table border=\"1\" class=\"dataframe\">\n",
       "  <thead>\n",
       "    <tr style=\"text-align: right;\">\n",
       "      <th></th>\n",
       "      <th>Unnamed: 0</th>\n",
       "      <th>Book</th>\n",
       "      <th>Rating</th>\n",
       "      <th>User</th>\n",
       "    </tr>\n",
       "  </thead>\n",
       "  <tbody>\n",
       "    <tr>\n",
       "      <th>77644</th>\n",
       "      <td>77644</td>\n",
       "      <td>The Feynman Lectures on Physics, 3 Vols</td>\n",
       "      <td>5</td>\n",
       "      <td>25000</td>\n",
       "    </tr>\n",
       "    <tr>\n",
       "      <th>77645</th>\n",
       "      <td>77645</td>\n",
       "      <td>Linear Algebra and Its Applications</td>\n",
       "      <td>5</td>\n",
       "      <td>25000</td>\n",
       "    </tr>\n",
       "    <tr>\n",
       "      <th>77646</th>\n",
       "      <td>77646</td>\n",
       "      <td>Physics (2 Vol. Set)</td>\n",
       "      <td>3</td>\n",
       "      <td>25000</td>\n",
       "    </tr>\n",
       "    <tr>\n",
       "      <th>77647</th>\n",
       "      <td>77647</td>\n",
       "      <td>Lost New York</td>\n",
       "      <td>5</td>\n",
       "      <td>25000</td>\n",
       "    </tr>\n",
       "    <tr>\n",
       "      <th>77648</th>\n",
       "      <td>77648</td>\n",
       "      <td>Nightmare Town: Stories</td>\n",
       "      <td>3</td>\n",
       "      <td>25000</td>\n",
       "    </tr>\n",
       "  </tbody>\n",
       "</table>\n",
       "</div>"
      ],
      "text/plain": [
       "       Unnamed: 0                                     Book  Rating   User\n",
       "77644       77644  The Feynman Lectures on Physics, 3 Vols       5  25000\n",
       "77645       77645      Linear Algebra and Its Applications       5  25000\n",
       "77646       77646                     Physics (2 Vol. Set)       3  25000\n",
       "77647       77647                            Lost New York       5  25000\n",
       "77648       77648                  Nightmare Town: Stories       3  25000"
      ]
     },
     "execution_count": 14,
     "metadata": {},
     "output_type": "execute_result"
    }
   ],
   "source": [
    "df_25000.tail()"
   ]
  },
  {
   "cell_type": "code",
   "execution_count": 15,
   "metadata": {},
   "outputs": [],
   "source": [
    "# create a list of our data so we can concat them\n",
    "frames = [df_5000, df_10000, df_15000, df_20000, df_25000]"
   ]
  },
  {
   "cell_type": "code",
   "execution_count": 16,
   "metadata": {},
   "outputs": [],
   "source": [
    "# concat all the dataframes to create a single one\n",
    "complete_set = pd.concat(frames)"
   ]
  },
  {
   "cell_type": "code",
   "execution_count": 17,
   "metadata": {},
   "outputs": [],
   "source": [
    "# drop unwanted columns\n",
    "complete_set.drop(columns='Unnamed: 0', inplace=True)"
   ]
  },
  {
   "cell_type": "code",
   "execution_count": 18,
   "metadata": {},
   "outputs": [],
   "source": [
    "# save the data as csv file\n",
    "complete_set.to_csv('complete_book_data.csv')"
   ]
  },
  {
   "cell_type": "code",
   "execution_count": 19,
   "metadata": {},
   "outputs": [],
   "source": [
    "# import complete book data csv file\n",
    "df = pd.read_csv('complete_book_data.csv')"
   ]
  },
  {
   "cell_type": "code",
   "execution_count": 20,
   "metadata": {},
   "outputs": [],
   "source": [
    "# drop unwanted columns\n",
    "df.drop(columns='Unnamed: 0', inplace=True)"
   ]
  },
  {
   "cell_type": "code",
   "execution_count": 21,
   "metadata": {},
   "outputs": [
    {
     "data": {
      "text/html": [
       "<div>\n",
       "<style scoped>\n",
       "    .dataframe tbody tr th:only-of-type {\n",
       "        vertical-align: middle;\n",
       "    }\n",
       "\n",
       "    .dataframe tbody tr th {\n",
       "        vertical-align: top;\n",
       "    }\n",
       "\n",
       "    .dataframe thead th {\n",
       "        text-align: right;\n",
       "    }\n",
       "</style>\n",
       "<table border=\"1\" class=\"dataframe\">\n",
       "  <thead>\n",
       "    <tr style=\"text-align: right;\">\n",
       "      <th></th>\n",
       "      <th>Book</th>\n",
       "      <th>Rating</th>\n",
       "      <th>User</th>\n",
       "    </tr>\n",
       "  </thead>\n",
       "  <tbody>\n",
       "    <tr>\n",
       "      <th>0</th>\n",
       "      <td>Toujours Provence (Provence, #2)</td>\n",
       "      <td>4</td>\n",
       "      <td>1</td>\n",
       "    </tr>\n",
       "    <tr>\n",
       "      <th>1</th>\n",
       "      <td>A Year in Provence (Provence, #1)</td>\n",
       "      <td>5</td>\n",
       "      <td>1</td>\n",
       "    </tr>\n",
       "    <tr>\n",
       "      <th>2</th>\n",
       "      <td>The Mamba Mentality: How I Play</td>\n",
       "      <td>4</td>\n",
       "      <td>1</td>\n",
       "    </tr>\n",
       "    <tr>\n",
       "      <th>3</th>\n",
       "      <td>The Story of Doctor Dolittle (Doctor Dolittle,...</td>\n",
       "      <td>5</td>\n",
       "      <td>1</td>\n",
       "    </tr>\n",
       "    <tr>\n",
       "      <th>4</th>\n",
       "      <td>2018 on Goodreads</td>\n",
       "      <td>4</td>\n",
       "      <td>1</td>\n",
       "    </tr>\n",
       "  </tbody>\n",
       "</table>\n",
       "</div>"
      ],
      "text/plain": [
       "                                                Book  Rating  User\n",
       "0                   Toujours Provence (Provence, #2)       4     1\n",
       "1                  A Year in Provence (Provence, #1)       5     1\n",
       "2                    The Mamba Mentality: How I Play       4     1\n",
       "3  The Story of Doctor Dolittle (Doctor Dolittle,...       5     1\n",
       "4                                  2018 on Goodreads       4     1"
      ]
     },
     "execution_count": 21,
     "metadata": {},
     "output_type": "execute_result"
    }
   ],
   "source": [
    "df.head()"
   ]
  },
  {
   "cell_type": "code",
   "execution_count": 22,
   "metadata": {},
   "outputs": [
    {
     "data": {
      "text/html": [
       "<div>\n",
       "<style scoped>\n",
       "    .dataframe tbody tr th:only-of-type {\n",
       "        vertical-align: middle;\n",
       "    }\n",
       "\n",
       "    .dataframe tbody tr th {\n",
       "        vertical-align: top;\n",
       "    }\n",
       "\n",
       "    .dataframe thead th {\n",
       "        text-align: right;\n",
       "    }\n",
       "</style>\n",
       "<table border=\"1\" class=\"dataframe\">\n",
       "  <thead>\n",
       "    <tr style=\"text-align: right;\">\n",
       "      <th></th>\n",
       "      <th>Book</th>\n",
       "      <th>Rating</th>\n",
       "      <th>User</th>\n",
       "    </tr>\n",
       "  </thead>\n",
       "  <tbody>\n",
       "    <tr>\n",
       "      <th>421437</th>\n",
       "      <td>The Feynman Lectures on Physics, 3 Vols</td>\n",
       "      <td>5</td>\n",
       "      <td>25000</td>\n",
       "    </tr>\n",
       "    <tr>\n",
       "      <th>421438</th>\n",
       "      <td>Linear Algebra and Its Applications</td>\n",
       "      <td>5</td>\n",
       "      <td>25000</td>\n",
       "    </tr>\n",
       "    <tr>\n",
       "      <th>421439</th>\n",
       "      <td>Physics (2 Vol. Set)</td>\n",
       "      <td>3</td>\n",
       "      <td>25000</td>\n",
       "    </tr>\n",
       "    <tr>\n",
       "      <th>421440</th>\n",
       "      <td>Lost New York</td>\n",
       "      <td>5</td>\n",
       "      <td>25000</td>\n",
       "    </tr>\n",
       "    <tr>\n",
       "      <th>421441</th>\n",
       "      <td>Nightmare Town: Stories</td>\n",
       "      <td>3</td>\n",
       "      <td>25000</td>\n",
       "    </tr>\n",
       "  </tbody>\n",
       "</table>\n",
       "</div>"
      ],
      "text/plain": [
       "                                           Book  Rating   User\n",
       "421437  The Feynman Lectures on Physics, 3 Vols       5  25000\n",
       "421438      Linear Algebra and Its Applications       5  25000\n",
       "421439                     Physics (2 Vol. Set)       3  25000\n",
       "421440                            Lost New York       5  25000\n",
       "421441                  Nightmare Town: Stories       3  25000"
      ]
     },
     "execution_count": 22,
     "metadata": {},
     "output_type": "execute_result"
    }
   ],
   "source": [
    "df.tail()"
   ]
  },
  {
   "cell_type": "markdown",
   "metadata": {},
   "source": [
    "## Statistics"
   ]
  },
  {
   "cell_type": "code",
   "execution_count": 23,
   "metadata": {},
   "outputs": [
    {
     "name": "stdout",
     "output_type": "stream",
     "text": [
      "Statistics:\n",
      "- There are a total of 8,781 users\n",
      "- There are a total of 98,759 unique books\n",
      "- There are a total of 421,442 ratings\n",
      "\n",
      "\n"
     ]
    }
   ],
   "source": [
    "print('Statistics:')\n",
    "# get number of unique users\n",
    "print(f\"- There are a total of {str(df['User'].nunique())[:1]},{str(df['User'].nunique())[1:]} users\")\n",
    "# get number of unique books\n",
    "print(f\"- There are a total of {str(df['Book'].nunique())[:2]},{str(df['Book'].nunique())[2:]} unique books\")\n",
    "# get the length of the entire dataset\n",
    "print(f\"- There are a total of {str(len(df))[:3]},{str(len(df))[3:]} ratings\")\n",
    "print('\\n')"
   ]
  },
  {
   "cell_type": "code",
   "execution_count": 24,
   "metadata": {},
   "outputs": [
    {
     "data": {
      "text/plain": [
       "(421442, 3)"
      ]
     },
     "execution_count": 24,
     "metadata": {},
     "output_type": "execute_result"
    }
   ],
   "source": [
    "df.shape"
   ]
  },
  {
   "cell_type": "markdown",
   "metadata": {},
   "source": [
    "## Data Visualization"
   ]
  },
  {
   "cell_type": "markdown",
   "metadata": {},
   "source": [
    "### 20 Most Rated Books"
   ]
  },
  {
   "cell_type": "code",
   "execution_count": 25,
   "metadata": {},
   "outputs": [
    {
     "data": {
      "text/plain": [
       "The Catcher in the Rye                                          1647\n",
       "The Great Gatsby                                                1530\n",
       "The Da Vinci Code (Robert Langdon, #2)                          1498\n",
       "The Kite Runner                                                 1412\n",
       "To Kill a Mockingbird                                           1297\n",
       "1984                                                            1203\n",
       "Harry Potter and the Sorcerer's Stone (Harry Potter, #1)        1197\n",
       "Animal Farm                                                     1196\n",
       "Harry Potter and the Prisoner of Azkaban (Harry Potter, #3)     1178\n",
       "Harry Potter and the Goblet of Fire (Harry Potter, #4)          1086\n",
       "Harry Potter and the Order of the Phoenix (Harry Potter, #5)    1008\n",
       "Harry Potter and the Half-Blood Prince (Harry Potter, #6)       1003\n",
       "Pride and Prejudice                                              997\n",
       "The Alchemist                                                    975\n",
       "One Hundred Years of Solitude                                    929\n",
       "Memoirs of a Geisha                                              922\n",
       "Me Talk Pretty One Day                                           915\n",
       "Harry Potter and the Chamber of Secrets (Harry Potter, #2)       869\n",
       "Middlesex                                                        855\n",
       "Slaughterhouse-Five                                              824\n",
       "Name: Book, dtype: int64"
      ]
     },
     "execution_count": 25,
     "metadata": {},
     "output_type": "execute_result"
    }
   ],
   "source": [
    "# count amount of times book has been rated and return top 20\n",
    "top_20_most_rated = df['Book'].value_counts()[:20]\n",
    "top_20_most_rated"
   ]
  },
  {
   "cell_type": "code",
   "execution_count": 26,
   "metadata": {
    "scrolled": false
   },
   "outputs": [
    {
     "data": {
      "image/png": "[encoded data removed]",
      "text/plain": [
       "<Figure size 1152x576 with 1 Axes>"
      ]
     },
     "metadata": {},
     "output_type": "display_data"
    }
   ],
   "source": [
    "sns.set_style('darkgrid')\n",
    "plt.figure(figsize=(16,8))\n",
    "top_20_most_rated_plt = top_20_most_rated.head(20)[::-1].plot(kind='barh').set_title('20 Most Rated Books', size=20)\n",
    "plt.tight_layout()\n",
    "# plt.savefig(\"top_20_most_rated_plt.png\")"
   ]
  },
  {
   "cell_type": "markdown",
   "metadata": {},
   "source": [
    "### 20 Most Rated Books Ranked"
   ]
  },
  {
   "cell_type": "code",
   "execution_count": 27,
   "metadata": {},
   "outputs": [],
   "source": [
    "def top_20_highest_rated():\n",
    "    # import complete book csv file\n",
    "    top_20_highest_rated_df = pd.read_csv('complete_book_data.csv')\n",
    "    # make the index equal to the book titles\n",
    "    top_20_highest_rated_df.index = top_20_highest_rated_df['Book']\n",
    "    # drop unwanted columns\n",
    "    top_20_highest_rated_df.drop(columns='Book', inplace=True)\n",
    "    \n",
    "    top_20_highest_rated = []\n",
    "    # for each book in the top 20 most rated books\n",
    "    for book in df['Book'].value_counts()[:20].index:\n",
    "        # append rating for the top 20 most rated books as a tuple\n",
    "        top_20_highest_rated.append((book, round(top_20_highest_rated_df.loc[book, :].mean(),2)['Rating']))\n",
    "\n",
    "    # sort the list of tuples by the rating and reverse the order\n",
    "    top_20_highest_rated.sort(key=lambda tup: tup[1], reverse=True)\n",
    "    # save this data as a DataFrame with columns as book and average rating\n",
    "    top_20_highest_rated = pd.DataFrame(top_20_highest_rated, columns=['Book', 'Average Rating'])\n",
    "    # make the index equal to book tiltes\n",
    "    top_20_highest_rated.index = top_20_highest_rated['Book']\n",
    "    # drop unwanted columns\n",
    "    top_20_highest_rated.drop(columns='Book', inplace=True)\n",
    "    # turn the DataFrame into Series format\n",
    "    top_20_highest_rated = top_20_highest_rated.iloc[:,0]\n",
    "    return top_20_highest_rated"
   ]
  },
  {
   "cell_type": "code",
   "execution_count": 28,
   "metadata": {
    "scrolled": false
   },
   "outputs": [
    {
     "data": {
      "text/plain": [
       "Book\n",
       "To Kill a Mockingbird                                           4.29\n",
       "The Kite Runner                                                 4.19\n",
       "Harry Potter and the Half-Blood Prince (Harry Potter, #6)       4.19\n",
       "Pride and Prejudice                                             4.18\n",
       "Slaughterhouse-Five                                             4.17\n",
       "Harry Potter and the Goblet of Fire (Harry Potter, #4)          4.16\n",
       "1984                                                            4.15\n",
       "Harry Potter and the Prisoner of Azkaban (Harry Potter, #3)     4.15\n",
       "One Hundred Years of Solitude                                   4.15\n",
       "Middlesex                                                       4.13\n",
       "The Catcher in the Rye                                          4.04\n",
       "Harry Potter and the Order of the Phoenix (Harry Potter, #5)    4.04\n",
       "Me Talk Pretty One Day                                          4.01\n",
       "The Great Gatsby                                                3.98\n",
       "Harry Potter and the Sorcerer's Stone (Harry Potter, #1)        3.92\n",
       "Animal Farm                                                     3.92\n",
       "Memoirs of a Geisha                                             3.85\n",
       "Harry Potter and the Chamber of Secrets (Harry Potter, #2)      3.80\n",
       "The Alchemist                                                   3.57\n",
       "The Da Vinci Code (Robert Langdon, #2)                          3.29\n",
       "Name: Average Rating, dtype: float64"
      ]
     },
     "execution_count": 28,
     "metadata": {},
     "output_type": "execute_result"
    }
   ],
   "source": [
    "top_20_highest_rated()"
   ]
  },
  {
   "cell_type": "code",
   "execution_count": 29,
   "metadata": {},
   "outputs": [
    {
     "data": {
      "image/png": "[encoded data removed]",
      "text/plain": [
       "<Figure size 1152x576 with 1 Axes>"
      ]
     },
     "metadata": {},
     "output_type": "display_data"
    }
   ],
   "source": [
    "sns.set_style('darkgrid')\n",
    "sns.set(font_scale=1.5) \n",
    "plt.figure(figsize=(16,8))\n",
    "top_20_highest_rated_plt = top_20_highest_rated()[::-1].plot(kind='barh').set_title('20 Most Rated Books Ranked', size=20)\n",
    "plt.ylabel('')\n",
    "plt.tight_layout()\n",
    "# plt.savefig(\"top_20_highest_rated_plt.png\")"
   ]
  },
  {
   "cell_type": "markdown",
   "metadata": {},
   "source": [
    "## Item-Item Collaberative Recommender System\n",
    "> Recommendations based on books with similar ratings"
   ]
  },
  {
   "cell_type": "code",
   "execution_count": 30,
   "metadata": {},
   "outputs": [
    {
     "name": "stdout",
     "output_type": "stream",
     "text": [
      "Item Recommender Imports:\n"
     ]
    }
   ],
   "source": [
    "print('Item Recommender Imports:')"
   ]
  },
  {
   "cell_type": "markdown",
   "metadata": {},
   "source": [
    "### Pivot Table"
   ]
  },
  {
   "cell_type": "code",
   "execution_count": 31,
   "metadata": {},
   "outputs": [],
   "source": [
    "# pivot our data so the index are book titles, columns are users, and values are the ratings\n",
    "book_pivot_table = pd.pivot_table(df, index='Book', columns='User', values='Rating')"
   ]
  },
  {
   "cell_type": "code",
   "execution_count": 32,
   "metadata": {},
   "outputs": [
    {
     "data": {
      "text/html": [
       "<div>\n",
       "<style scoped>\n",
       "    .dataframe tbody tr th:only-of-type {\n",
       "        vertical-align: middle;\n",
       "    }\n",
       "\n",
       "    .dataframe tbody tr th {\n",
       "        vertical-align: top;\n",
       "    }\n",
       "\n",
       "    .dataframe thead th {\n",
       "        text-align: right;\n",
       "    }\n",
       "</style>\n",
       "<table border=\"1\" class=\"dataframe\">\n",
       "  <thead>\n",
       "    <tr style=\"text-align: right;\">\n",
       "      <th>User</th>\n",
       "      <th>1</th>\n",
       "      <th>2</th>\n",
       "      <th>3</th>\n",
       "      <th>4</th>\n",
       "      <th>5</th>\n",
       "      <th>6</th>\n",
       "      <th>7</th>\n",
       "      <th>8</th>\n",
       "      <th>9</th>\n",
       "      <th>12</th>\n",
       "      <th>...</th>\n",
       "      <th>24973</th>\n",
       "      <th>24980</th>\n",
       "      <th>24982</th>\n",
       "      <th>24983</th>\n",
       "      <th>24984</th>\n",
       "      <th>24989</th>\n",
       "      <th>24991</th>\n",
       "      <th>24993</th>\n",
       "      <th>24997</th>\n",
       "      <th>25000</th>\n",
       "    </tr>\n",
       "    <tr>\n",
       "      <th>Book</th>\n",
       "      <th></th>\n",
       "      <th></th>\n",
       "      <th></th>\n",
       "      <th></th>\n",
       "      <th></th>\n",
       "      <th></th>\n",
       "      <th></th>\n",
       "      <th></th>\n",
       "      <th></th>\n",
       "      <th></th>\n",
       "      <th></th>\n",
       "      <th></th>\n",
       "      <th></th>\n",
       "      <th></th>\n",
       "      <th></th>\n",
       "      <th></th>\n",
       "      <th></th>\n",
       "      <th></th>\n",
       "      <th></th>\n",
       "      <th></th>\n",
       "      <th></th>\n",
       "    </tr>\n",
       "  </thead>\n",
       "  <tbody>\n",
       "    <tr>\n",
       "      <th>!Viva Tequila!: Cocktails, Cooking, and Other Agave Adventures</th>\n",
       "      <td>NaN</td>\n",
       "      <td>NaN</td>\n",
       "      <td>NaN</td>\n",
       "      <td>NaN</td>\n",
       "      <td>NaN</td>\n",
       "      <td>NaN</td>\n",
       "      <td>NaN</td>\n",
       "      <td>NaN</td>\n",
       "      <td>NaN</td>\n",
       "      <td>NaN</td>\n",
       "      <td>...</td>\n",
       "      <td>NaN</td>\n",
       "      <td>NaN</td>\n",
       "      <td>NaN</td>\n",
       "      <td>NaN</td>\n",
       "      <td>NaN</td>\n",
       "      <td>NaN</td>\n",
       "      <td>NaN</td>\n",
       "      <td>NaN</td>\n",
       "      <td>NaN</td>\n",
       "      <td>NaN</td>\n",
       "    </tr>\n",
       "    <tr>\n",
       "      <th>!از قر و قمبیل‌های قلمی بی‌قال و قیل</th>\n",
       "      <td>NaN</td>\n",
       "      <td>NaN</td>\n",
       "      <td>NaN</td>\n",
       "      <td>NaN</td>\n",
       "      <td>NaN</td>\n",
       "      <td>NaN</td>\n",
       "      <td>NaN</td>\n",
       "      <td>NaN</td>\n",
       "      <td>NaN</td>\n",
       "      <td>NaN</td>\n",
       "      <td>...</td>\n",
       "      <td>NaN</td>\n",
       "      <td>NaN</td>\n",
       "      <td>NaN</td>\n",
       "      <td>NaN</td>\n",
       "      <td>NaN</td>\n",
       "      <td>NaN</td>\n",
       "      <td>NaN</td>\n",
       "      <td>NaN</td>\n",
       "      <td>NaN</td>\n",
       "      <td>NaN</td>\n",
       "    </tr>\n",
       "    <tr>\n",
       "      <th>\"A Problem from Hell\": America and the Age of Genocide</th>\n",
       "      <td>NaN</td>\n",
       "      <td>NaN</td>\n",
       "      <td>NaN</td>\n",
       "      <td>NaN</td>\n",
       "      <td>NaN</td>\n",
       "      <td>NaN</td>\n",
       "      <td>NaN</td>\n",
       "      <td>NaN</td>\n",
       "      <td>NaN</td>\n",
       "      <td>NaN</td>\n",
       "      <td>...</td>\n",
       "      <td>NaN</td>\n",
       "      <td>NaN</td>\n",
       "      <td>NaN</td>\n",
       "      <td>NaN</td>\n",
       "      <td>NaN</td>\n",
       "      <td>NaN</td>\n",
       "      <td>NaN</td>\n",
       "      <td>NaN</td>\n",
       "      <td>NaN</td>\n",
       "      <td>NaN</td>\n",
       "    </tr>\n",
       "    <tr>\n",
       "      <th>\"A Woman's Place Is in the Kitchen\": The Evolution of Women Chefs</th>\n",
       "      <td>NaN</td>\n",
       "      <td>NaN</td>\n",
       "      <td>NaN</td>\n",
       "      <td>NaN</td>\n",
       "      <td>NaN</td>\n",
       "      <td>NaN</td>\n",
       "      <td>NaN</td>\n",
       "      <td>NaN</td>\n",
       "      <td>NaN</td>\n",
       "      <td>NaN</td>\n",
       "      <td>...</td>\n",
       "      <td>NaN</td>\n",
       "      <td>NaN</td>\n",
       "      <td>NaN</td>\n",
       "      <td>NaN</td>\n",
       "      <td>NaN</td>\n",
       "      <td>NaN</td>\n",
       "      <td>NaN</td>\n",
       "      <td>NaN</td>\n",
       "      <td>NaN</td>\n",
       "      <td>NaN</td>\n",
       "    </tr>\n",
       "    <tr>\n",
       "      <th>\"A\" Is for American: Letters and Other Characters in the Newly United States</th>\n",
       "      <td>NaN</td>\n",
       "      <td>NaN</td>\n",
       "      <td>NaN</td>\n",
       "      <td>NaN</td>\n",
       "      <td>NaN</td>\n",
       "      <td>NaN</td>\n",
       "      <td>NaN</td>\n",
       "      <td>NaN</td>\n",
       "      <td>NaN</td>\n",
       "      <td>NaN</td>\n",
       "      <td>...</td>\n",
       "      <td>NaN</td>\n",
       "      <td>NaN</td>\n",
       "      <td>NaN</td>\n",
       "      <td>NaN</td>\n",
       "      <td>NaN</td>\n",
       "      <td>NaN</td>\n",
       "      <td>NaN</td>\n",
       "      <td>NaN</td>\n",
       "      <td>NaN</td>\n",
       "      <td>NaN</td>\n",
       "    </tr>\n",
       "  </tbody>\n",
       "</table>\n",
       "<p>5 rows × 8781 columns</p>\n",
       "</div>"
      ],
      "text/plain": [
       "User                                                1      2      3      \\\n",
       "Book                                                                      \n",
       "!Viva Tequila!: Cocktails, Cooking, and Other A...    NaN    NaN    NaN   \n",
       "!از قر و قمبیل‌های قلمی بی‌قال و قیل                  NaN    NaN    NaN   \n",
       "\"A Problem from Hell\": America and the Age of G...    NaN    NaN    NaN   \n",
       "\"A Woman's Place Is in the Kitchen\": The Evolut...    NaN    NaN    NaN   \n",
       "\"A\" Is for American: Letters and Other Characte...    NaN    NaN    NaN   \n",
       "\n",
       "User                                                4      5      6      \\\n",
       "Book                                                                      \n",
       "!Viva Tequila!: Cocktails, Cooking, and Other A...    NaN    NaN    NaN   \n",
       "!از قر و قمبیل‌های قلمی بی‌قال و قیل                  NaN    NaN    NaN   \n",
       "\"A Problem from Hell\": America and the Age of G...    NaN    NaN    NaN   \n",
       "\"A Woman's Place Is in the Kitchen\": The Evolut...    NaN    NaN    NaN   \n",
       "\"A\" Is for American: Letters and Other Characte...    NaN    NaN    NaN   \n",
       "\n",
       "User                                                7      8      9      \\\n",
       "Book                                                                      \n",
       "!Viva Tequila!: Cocktails, Cooking, and Other A...    NaN    NaN    NaN   \n",
       "!از قر و قمبیل‌های قلمی بی‌قال و قیل                  NaN    NaN    NaN   \n",
       "\"A Problem from Hell\": America and the Age of G...    NaN    NaN    NaN   \n",
       "\"A Woman's Place Is in the Kitchen\": The Evolut...    NaN    NaN    NaN   \n",
       "\"A\" Is for American: Letters and Other Characte...    NaN    NaN    NaN   \n",
       "\n",
       "User                                                12     ...    24973  \\\n",
       "Book                                                       ...            \n",
       "!Viva Tequila!: Cocktails, Cooking, and Other A...    NaN  ...      NaN   \n",
       "!از قر و قمبیل‌های قلمی بی‌قال و قیل                  NaN  ...      NaN   \n",
       "\"A Problem from Hell\": America and the Age of G...    NaN  ...      NaN   \n",
       "\"A Woman's Place Is in the Kitchen\": The Evolut...    NaN  ...      NaN   \n",
       "\"A\" Is for American: Letters and Other Characte...    NaN  ...      NaN   \n",
       "\n",
       "User                                                24980  24982  24983  \\\n",
       "Book                                                                      \n",
       "!Viva Tequila!: Cocktails, Cooking, and Other A...    NaN    NaN    NaN   \n",
       "!از قر و قمبیل‌های قلمی بی‌قال و قیل                  NaN    NaN    NaN   \n",
       "\"A Problem from Hell\": America and the Age of G...    NaN    NaN    NaN   \n",
       "\"A Woman's Place Is in the Kitchen\": The Evolut...    NaN    NaN    NaN   \n",
       "\"A\" Is for American: Letters and Other Characte...    NaN    NaN    NaN   \n",
       "\n",
       "User                                                24984  24989  24991  \\\n",
       "Book                                                                      \n",
       "!Viva Tequila!: Cocktails, Cooking, and Other A...    NaN    NaN    NaN   \n",
       "!از قر و قمبیل‌های قلمی بی‌قال و قیل                  NaN    NaN    NaN   \n",
       "\"A Problem from Hell\": America and the Age of G...    NaN    NaN    NaN   \n",
       "\"A Woman's Place Is in the Kitchen\": The Evolut...    NaN    NaN    NaN   \n",
       "\"A\" Is for American: Letters and Other Characte...    NaN    NaN    NaN   \n",
       "\n",
       "User                                                24993  24997  25000  \n",
       "Book                                                                     \n",
       "!Viva Tequila!: Cocktails, Cooking, and Other A...    NaN    NaN    NaN  \n",
       "!از قر و قمبیل‌های قلمی بی‌قال و قیل                  NaN    NaN    NaN  \n",
       "\"A Problem from Hell\": America and the Age of G...    NaN    NaN    NaN  \n",
       "\"A Woman's Place Is in the Kitchen\": The Evolut...    NaN    NaN    NaN  \n",
       "\"A\" Is for American: Letters and Other Characte...    NaN    NaN    NaN  \n",
       "\n",
       "[5 rows x 8781 columns]"
      ]
     },
     "execution_count": 32,
     "metadata": {},
     "output_type": "execute_result"
    }
   ],
   "source": [
    "book_pivot_table.head()"
   ]
  },
  {
   "cell_type": "code",
   "execution_count": 33,
   "metadata": {},
   "outputs": [
    {
     "name": "stdout",
     "output_type": "stream",
     "text": [
      "- Item pivot table complete...\n"
     ]
    }
   ],
   "source": [
    "print('- Item pivot table complete...')"
   ]
  },
  {
   "cell_type": "markdown",
   "metadata": {},
   "source": [
    "### Sparse Matrix"
   ]
  },
  {
   "cell_type": "code",
   "execution_count": 34,
   "metadata": {},
   "outputs": [],
   "source": [
    "# create a sparse_matrix from our pivot table and fill the NaN values with 0 which will get ignored\n",
    "# book_sparse_pivot = sparse.csr_matrix(book_pivot_table.fillna(0))"
   ]
  },
  {
   "cell_type": "code",
   "execution_count": 35,
   "metadata": {},
   "outputs": [],
   "source": [
    "# sparse.save_npz('book_sparse_pivot.npz', book_sparse_pivot)"
   ]
  },
  {
   "cell_type": "code",
   "execution_count": 36,
   "metadata": {},
   "outputs": [],
   "source": [
    "# load sparse_pivot_table file \n",
    "book_sparse_pivot = sparse.load_npz('book_sparse_pivot.npz')"
   ]
  },
  {
   "cell_type": "code",
   "execution_count": 37,
   "metadata": {},
   "outputs": [
    {
     "data": {
      "text/plain": [
       "(98759, 8781)"
      ]
     },
     "execution_count": 37,
     "metadata": {},
     "output_type": "execute_result"
    }
   ],
   "source": [
    "book_sparse_pivot.shape"
   ]
  },
  {
   "cell_type": "code",
   "execution_count": 38,
   "metadata": {},
   "outputs": [
    {
     "name": "stdout",
     "output_type": "stream",
     "text": [
      "- Item sparse matrix loaded...\n"
     ]
    }
   ],
   "source": [
    "print('- Item sparse matrix loaded...')"
   ]
  },
  {
   "cell_type": "markdown",
   "metadata": {},
   "source": [
    "### Cosine Calculations\n",
    "#### Load Time: Approx. 4-5 minutes"
   ]
  },
  {
   "cell_type": "code",
   "execution_count": 43,
   "metadata": {},
   "outputs": [],
   "source": [
    "# user pairwise_distance to calculate cosine distance on the sparse_pivot data\n",
    "book_recommender = pairwise_distances(book_sparse_pivot, metric='cosine')"
   ]
  },
  {
   "cell_type": "code",
   "execution_count": 41,
   "metadata": {},
   "outputs": [],
   "source": [
    "# np.save('book_recommender.npy', book_recommender)"
   ]
  },
  {
   "cell_type": "code",
   "execution_count": 42,
   "metadata": {},
   "outputs": [],
   "source": [
    "# load up the cosine distance array file\n",
    "# book_recommender = np.load('book_recommender.npy')"
   ]
  },
  {
   "cell_type": "code",
   "execution_count": 44,
   "metadata": {},
   "outputs": [
    {
     "data": {
      "text/plain": [
       "array([[0., 1., 1., ..., 1., 1., 1.],\n",
       "       [1., 0., 1., ..., 1., 1., 1.],\n",
       "       [1., 1., 0., ..., 1., 1., 1.],\n",
       "       ...,\n",
       "       [1., 1., 1., ..., 0., 1., 1.],\n",
       "       [1., 1., 1., ..., 1., 0., 1.],\n",
       "       [1., 1., 1., ..., 1., 1., 0.]])"
      ]
     },
     "execution_count": 44,
     "metadata": {},
     "output_type": "execute_result"
    }
   ],
   "source": [
    "book_recommender"
   ]
  },
  {
   "cell_type": "code",
   "execution_count": 45,
   "metadata": {},
   "outputs": [
    {
     "name": "stdout",
     "output_type": "stream",
     "text": [
      "- Item Cosine calculations complete...\n"
     ]
    }
   ],
   "source": [
    "print('- Item Cosine calculations complete...')"
   ]
  },
  {
   "cell_type": "markdown",
   "metadata": {},
   "source": [
    "### Recommender DataFrame"
   ]
  },
  {
   "cell_type": "code",
   "execution_count": 48,
   "metadata": {},
   "outputs": [],
   "source": [
    "# insert the cosine distance array into a DataFrame with book titles as the index and columns \n",
    "book_recommender_df = pd.DataFrame(book_recommender, index=book_pivot_table.index, columns=book_pivot_table.index)"
   ]
  },
  {
   "cell_type": "code",
   "execution_count": 49,
   "metadata": {},
   "outputs": [
    {
     "data": {
      "text/html": [
       "<div>\n",
       "<style scoped>\n",
       "    .dataframe tbody tr th:only-of-type {\n",
       "        vertical-align: middle;\n",
       "    }\n",
       "\n",
       "    .dataframe tbody tr th {\n",
       "        vertical-align: top;\n",
       "    }\n",
       "\n",
       "    .dataframe thead th {\n",
       "        text-align: right;\n",
       "    }\n",
       "</style>\n",
       "<table border=\"1\" class=\"dataframe\">\n",
       "  <thead>\n",
       "    <tr style=\"text-align: right;\">\n",
       "      <th>Book</th>\n",
       "      <th>!Viva Tequila!: Cocktails, Cooking, and Other Agave Adventures</th>\n",
       "      <th>!از قر و قمبیل‌های قلمی بی‌قال و قیل</th>\n",
       "      <th>\"A Problem from Hell\": America and the Age of Genocide</th>\n",
       "      <th>\"A Woman's Place Is in the Kitchen\": The Evolution of Women Chefs</th>\n",
       "      <th>\"A\" Is for American: Letters and Other Characters in the Newly United States</th>\n",
       "      <th>\"A\" Is for Ox: The Collapse of Literacy and the Rise of Violence in an Electronic Age</th>\n",
       "      <th>\"A\" is for Apple (Sophie Green Mystery, #3)</th>\n",
       "      <th>\"B\" Is for Betsy</th>\n",
       "      <th>\"Beat\" Takeshi Kitano</th>\n",
       "      <th>\"Believing Women\" in Islam: Unreading Patriarchal Interpretations of the Qur'an</th>\n",
       "      <th>...</th>\n",
       "      <th>달빛 조각사 41 (The Legendary Moonlight Sculptor, #41)</th>\n",
       "      <th>달빛 조각사 42 (The Legendary Moonlight Sculptor, #42)</th>\n",
       "      <th>달빛 조각사 43 (The Legendary Moonlight Sculptor, #43)</th>\n",
       "      <th>달빛 조각사 5 (The Legendary Moonlight Sculptor, #5)</th>\n",
       "      <th>달빛 조각사 6 (The Legendary Moonlight Sculptor, #6)</th>\n",
       "      <th>달빛 조각사 7 (The Legendary Moonlight Sculptor, #7)</th>\n",
       "      <th>달빛 조각사 8 (The Legendary Moonlight Sculptor, #8)</th>\n",
       "      <th>달빛 조각사 9 (The Legendary Moonlight Sculptor, #9)</th>\n",
       "      <th>모리와 함께한 화요일</th>\n",
       "      <th>흰</th>\n",
       "    </tr>\n",
       "    <tr>\n",
       "      <th>Book</th>\n",
       "      <th></th>\n",
       "      <th></th>\n",
       "      <th></th>\n",
       "      <th></th>\n",
       "      <th></th>\n",
       "      <th></th>\n",
       "      <th></th>\n",
       "      <th></th>\n",
       "      <th></th>\n",
       "      <th></th>\n",
       "      <th></th>\n",
       "      <th></th>\n",
       "      <th></th>\n",
       "      <th></th>\n",
       "      <th></th>\n",
       "      <th></th>\n",
       "      <th></th>\n",
       "      <th></th>\n",
       "      <th></th>\n",
       "      <th></th>\n",
       "      <th></th>\n",
       "    </tr>\n",
       "  </thead>\n",
       "  <tbody>\n",
       "    <tr>\n",
       "      <th>!Viva Tequila!: Cocktails, Cooking, and Other Agave Adventures</th>\n",
       "      <td>0.0</td>\n",
       "      <td>1.0</td>\n",
       "      <td>1.0</td>\n",
       "      <td>1.0</td>\n",
       "      <td>1.0</td>\n",
       "      <td>1.0</td>\n",
       "      <td>1.0</td>\n",
       "      <td>1.0</td>\n",
       "      <td>1.0</td>\n",
       "      <td>1.0</td>\n",
       "      <td>...</td>\n",
       "      <td>1.0</td>\n",
       "      <td>1.0</td>\n",
       "      <td>1.0</td>\n",
       "      <td>1.0</td>\n",
       "      <td>1.0</td>\n",
       "      <td>1.0</td>\n",
       "      <td>1.0</td>\n",
       "      <td>1.0</td>\n",
       "      <td>1.0</td>\n",
       "      <td>1.0</td>\n",
       "    </tr>\n",
       "    <tr>\n",
       "      <th>!از قر و قمبیل‌های قلمی بی‌قال و قیل</th>\n",
       "      <td>1.0</td>\n",
       "      <td>0.0</td>\n",
       "      <td>1.0</td>\n",
       "      <td>1.0</td>\n",
       "      <td>1.0</td>\n",
       "      <td>1.0</td>\n",
       "      <td>1.0</td>\n",
       "      <td>1.0</td>\n",
       "      <td>1.0</td>\n",
       "      <td>1.0</td>\n",
       "      <td>...</td>\n",
       "      <td>1.0</td>\n",
       "      <td>1.0</td>\n",
       "      <td>1.0</td>\n",
       "      <td>1.0</td>\n",
       "      <td>1.0</td>\n",
       "      <td>1.0</td>\n",
       "      <td>1.0</td>\n",
       "      <td>1.0</td>\n",
       "      <td>1.0</td>\n",
       "      <td>1.0</td>\n",
       "    </tr>\n",
       "    <tr>\n",
       "      <th>\"A Problem from Hell\": America and the Age of Genocide</th>\n",
       "      <td>1.0</td>\n",
       "      <td>1.0</td>\n",
       "      <td>0.0</td>\n",
       "      <td>1.0</td>\n",
       "      <td>1.0</td>\n",
       "      <td>1.0</td>\n",
       "      <td>1.0</td>\n",
       "      <td>1.0</td>\n",
       "      <td>1.0</td>\n",
       "      <td>1.0</td>\n",
       "      <td>...</td>\n",
       "      <td>1.0</td>\n",
       "      <td>1.0</td>\n",
       "      <td>1.0</td>\n",
       "      <td>1.0</td>\n",
       "      <td>1.0</td>\n",
       "      <td>1.0</td>\n",
       "      <td>1.0</td>\n",
       "      <td>1.0</td>\n",
       "      <td>1.0</td>\n",
       "      <td>1.0</td>\n",
       "    </tr>\n",
       "    <tr>\n",
       "      <th>\"A Woman's Place Is in the Kitchen\": The Evolution of Women Chefs</th>\n",
       "      <td>1.0</td>\n",
       "      <td>1.0</td>\n",
       "      <td>1.0</td>\n",
       "      <td>0.0</td>\n",
       "      <td>1.0</td>\n",
       "      <td>1.0</td>\n",
       "      <td>1.0</td>\n",
       "      <td>1.0</td>\n",
       "      <td>1.0</td>\n",
       "      <td>1.0</td>\n",
       "      <td>...</td>\n",
       "      <td>1.0</td>\n",
       "      <td>1.0</td>\n",
       "      <td>1.0</td>\n",
       "      <td>1.0</td>\n",
       "      <td>1.0</td>\n",
       "      <td>1.0</td>\n",
       "      <td>1.0</td>\n",
       "      <td>1.0</td>\n",
       "      <td>1.0</td>\n",
       "      <td>1.0</td>\n",
       "    </tr>\n",
       "    <tr>\n",
       "      <th>\"A\" Is for American: Letters and Other Characters in the Newly United States</th>\n",
       "      <td>1.0</td>\n",
       "      <td>1.0</td>\n",
       "      <td>1.0</td>\n",
       "      <td>1.0</td>\n",
       "      <td>0.0</td>\n",
       "      <td>1.0</td>\n",
       "      <td>1.0</td>\n",
       "      <td>1.0</td>\n",
       "      <td>1.0</td>\n",
       "      <td>1.0</td>\n",
       "      <td>...</td>\n",
       "      <td>1.0</td>\n",
       "      <td>1.0</td>\n",
       "      <td>1.0</td>\n",
       "      <td>1.0</td>\n",
       "      <td>1.0</td>\n",
       "      <td>1.0</td>\n",
       "      <td>1.0</td>\n",
       "      <td>1.0</td>\n",
       "      <td>1.0</td>\n",
       "      <td>1.0</td>\n",
       "    </tr>\n",
       "  </tbody>\n",
       "</table>\n",
       "<p>5 rows × 98759 columns</p>\n",
       "</div>"
      ],
      "text/plain": [
       "Book                                                !Viva Tequila!: Cocktails, Cooking, and Other Agave Adventures  \\\n",
       "Book                                                                                                                 \n",
       "!Viva Tequila!: Cocktails, Cooking, and Other A...                                                0.0                \n",
       "!از قر و قمبیل‌های قلمی بی‌قال و قیل                                                              1.0                \n",
       "\"A Problem from Hell\": America and the Age of G...                                                1.0                \n",
       "\"A Woman's Place Is in the Kitchen\": The Evolut...                                                1.0                \n",
       "\"A\" Is for American: Letters and Other Characte...                                                1.0                \n",
       "\n",
       "Book                                                !از قر و قمبیل‌های قلمی بی‌قال و قیل  \\\n",
       "Book                                                                                       \n",
       "!Viva Tequila!: Cocktails, Cooking, and Other A...                                   1.0   \n",
       "!از قر و قمبیل‌های قلمی بی‌قال و قیل                                                 0.0   \n",
       "\"A Problem from Hell\": America and the Age of G...                                   1.0   \n",
       "\"A Woman's Place Is in the Kitchen\": The Evolut...                                   1.0   \n",
       "\"A\" Is for American: Letters and Other Characte...                                   1.0   \n",
       "\n",
       "Book                                                \"A Problem from Hell\": America and the Age of Genocide  \\\n",
       "Book                                                                                                         \n",
       "!Viva Tequila!: Cocktails, Cooking, and Other A...                                                1.0        \n",
       "!از قر و قمبیل‌های قلمی بی‌قال و قیل                                                              1.0        \n",
       "\"A Problem from Hell\": America and the Age of G...                                                0.0        \n",
       "\"A Woman's Place Is in the Kitchen\": The Evolut...                                                1.0        \n",
       "\"A\" Is for American: Letters and Other Characte...                                                1.0        \n",
       "\n",
       "Book                                                \"A Woman's Place Is in the Kitchen\": The Evolution of Women Chefs  \\\n",
       "Book                                                                                                                    \n",
       "!Viva Tequila!: Cocktails, Cooking, and Other A...                                                1.0                   \n",
       "!از قر و قمبیل‌های قلمی بی‌قال و قیل                                                              1.0                   \n",
       "\"A Problem from Hell\": America and the Age of G...                                                1.0                   \n",
       "\"A Woman's Place Is in the Kitchen\": The Evolut...                                                0.0                   \n",
       "\"A\" Is for American: Letters and Other Characte...                                                1.0                   \n",
       "\n",
       "Book                                                \"A\" Is for American: Letters and Other Characters in the Newly United States  \\\n",
       "Book                                                                                                                               \n",
       "!Viva Tequila!: Cocktails, Cooking, and Other A...                                                1.0                              \n",
       "!از قر و قمبیل‌های قلمی بی‌قال و قیل                                                              1.0                              \n",
       "\"A Problem from Hell\": America and the Age of G...                                                1.0                              \n",
       "\"A Woman's Place Is in the Kitchen\": The Evolut...                                                1.0                              \n",
       "\"A\" Is for American: Letters and Other Characte...                                                0.0                              \n",
       "\n",
       "Book                                                \"A\" Is for Ox: The Collapse of Literacy and the Rise of Violence in an Electronic Age  \\\n",
       "Book                                                                                                                                        \n",
       "!Viva Tequila!: Cocktails, Cooking, and Other A...                                                1.0                                       \n",
       "!از قر و قمبیل‌های قلمی بی‌قال و قیل                                                              1.0                                       \n",
       "\"A Problem from Hell\": America and the Age of G...                                                1.0                                       \n",
       "\"A Woman's Place Is in the Kitchen\": The Evolut...                                                1.0                                       \n",
       "\"A\" Is for American: Letters and Other Characte...                                                1.0                                       \n",
       "\n",
       "Book                                                \"A\" is for Apple (Sophie Green Mystery, #3)  \\\n",
       "Book                                                                                              \n",
       "!Viva Tequila!: Cocktails, Cooking, and Other A...                                          1.0   \n",
       "!از قر و قمبیل‌های قلمی بی‌قال و قیل                                                        1.0   \n",
       "\"A Problem from Hell\": America and the Age of G...                                          1.0   \n",
       "\"A Woman's Place Is in the Kitchen\": The Evolut...                                          1.0   \n",
       "\"A\" Is for American: Letters and Other Characte...                                          1.0   \n",
       "\n",
       "Book                                                \"B\" Is for Betsy  \\\n",
       "Book                                                                   \n",
       "!Viva Tequila!: Cocktails, Cooking, and Other A...               1.0   \n",
       "!از قر و قمبیل‌های قلمی بی‌قال و قیل                             1.0   \n",
       "\"A Problem from Hell\": America and the Age of G...               1.0   \n",
       "\"A Woman's Place Is in the Kitchen\": The Evolut...               1.0   \n",
       "\"A\" Is for American: Letters and Other Characte...               1.0   \n",
       "\n",
       "Book                                                \"Beat\" Takeshi Kitano  \\\n",
       "Book                                                                        \n",
       "!Viva Tequila!: Cocktails, Cooking, and Other A...                    1.0   \n",
       "!از قر و قمبیل‌های قلمی بی‌قال و قیل                                  1.0   \n",
       "\"A Problem from Hell\": America and the Age of G...                    1.0   \n",
       "\"A Woman's Place Is in the Kitchen\": The Evolut...                    1.0   \n",
       "\"A\" Is for American: Letters and Other Characte...                    1.0   \n",
       "\n",
       "Book                                                \"Believing Women\" in Islam: Unreading Patriarchal Interpretations of the Qur'an  \\\n",
       "Book                                                                                                                                  \n",
       "!Viva Tequila!: Cocktails, Cooking, and Other A...                                                1.0                                 \n",
       "!از قر و قمبیل‌های قلمی بی‌قال و قیل                                                              1.0                                 \n",
       "\"A Problem from Hell\": America and the Age of G...                                                1.0                                 \n",
       "\"A Woman's Place Is in the Kitchen\": The Evolut...                                                1.0                                 \n",
       "\"A\" Is for American: Letters and Other Characte...                                                1.0                                 \n",
       "\n",
       "Book                                               ...   \\\n",
       "Book                                               ...    \n",
       "!Viva Tequila!: Cocktails, Cooking, and Other A... ...    \n",
       "!از قر و قمبیل‌های قلمی بی‌قال و قیل               ...    \n",
       "\"A Problem from Hell\": America and the Age of G... ...    \n",
       "\"A Woman's Place Is in the Kitchen\": The Evolut... ...    \n",
       "\"A\" Is for American: Letters and Other Characte... ...    \n",
       "\n",
       "Book                                                달빛 조각사 41 (The Legendary Moonlight Sculptor, #41)  \\\n",
       "Book                                                                                                    \n",
       "!Viva Tequila!: Cocktails, Cooking, and Other A...                                                1.0   \n",
       "!از قر و قمبیل‌های قلمی بی‌قال و قیل                                                              1.0   \n",
       "\"A Problem from Hell\": America and the Age of G...                                                1.0   \n",
       "\"A Woman's Place Is in the Kitchen\": The Evolut...                                                1.0   \n",
       "\"A\" Is for American: Letters and Other Characte...                                                1.0   \n",
       "\n",
       "Book                                                달빛 조각사 42 (The Legendary Moonlight Sculptor, #42)  \\\n",
       "Book                                                                                                    \n",
       "!Viva Tequila!: Cocktails, Cooking, and Other A...                                                1.0   \n",
       "!از قر و قمبیل‌های قلمی بی‌قال و قیل                                                              1.0   \n",
       "\"A Problem from Hell\": America and the Age of G...                                                1.0   \n",
       "\"A Woman's Place Is in the Kitchen\": The Evolut...                                                1.0   \n",
       "\"A\" Is for American: Letters and Other Characte...                                                1.0   \n",
       "\n",
       "Book                                                달빛 조각사 43 (The Legendary Moonlight Sculptor, #43)  \\\n",
       "Book                                                                                                    \n",
       "!Viva Tequila!: Cocktails, Cooking, and Other A...                                                1.0   \n",
       "!از قر و قمبیل‌های قلمی بی‌قال و قیل                                                              1.0   \n",
       "\"A Problem from Hell\": America and the Age of G...                                                1.0   \n",
       "\"A Woman's Place Is in the Kitchen\": The Evolut...                                                1.0   \n",
       "\"A\" Is for American: Letters and Other Characte...                                                1.0   \n",
       "\n",
       "Book                                                달빛 조각사 5 (The Legendary Moonlight Sculptor, #5)  \\\n",
       "Book                                                                                                  \n",
       "!Viva Tequila!: Cocktails, Cooking, and Other A...                                              1.0   \n",
       "!از قر و قمبیل‌های قلمی بی‌قال و قیل                                                            1.0   \n",
       "\"A Problem from Hell\": America and the Age of G...                                              1.0   \n",
       "\"A Woman's Place Is in the Kitchen\": The Evolut...                                              1.0   \n",
       "\"A\" Is for American: Letters and Other Characte...                                              1.0   \n",
       "\n",
       "Book                                                달빛 조각사 6 (The Legendary Moonlight Sculptor, #6)  \\\n",
       "Book                                                                                                  \n",
       "!Viva Tequila!: Cocktails, Cooking, and Other A...                                              1.0   \n",
       "!از قر و قمبیل‌های قلمی بی‌قال و قیل                                                            1.0   \n",
       "\"A Problem from Hell\": America and the Age of G...                                              1.0   \n",
       "\"A Woman's Place Is in the Kitchen\": The Evolut...                                              1.0   \n",
       "\"A\" Is for American: Letters and Other Characte...                                              1.0   \n",
       "\n",
       "Book                                                달빛 조각사 7 (The Legendary Moonlight Sculptor, #7)  \\\n",
       "Book                                                                                                  \n",
       "!Viva Tequila!: Cocktails, Cooking, and Other A...                                              1.0   \n",
       "!از قر و قمبیل‌های قلمی بی‌قال و قیل                                                            1.0   \n",
       "\"A Problem from Hell\": America and the Age of G...                                              1.0   \n",
       "\"A Woman's Place Is in the Kitchen\": The Evolut...                                              1.0   \n",
       "\"A\" Is for American: Letters and Other Characte...                                              1.0   \n",
       "\n",
       "Book                                                달빛 조각사 8 (The Legendary Moonlight Sculptor, #8)  \\\n",
       "Book                                                                                                  \n",
       "!Viva Tequila!: Cocktails, Cooking, and Other A...                                              1.0   \n",
       "!از قر و قمبیل‌های قلمی بی‌قال و قیل                                                            1.0   \n",
       "\"A Problem from Hell\": America and the Age of G...                                              1.0   \n",
       "\"A Woman's Place Is in the Kitchen\": The Evolut...                                              1.0   \n",
       "\"A\" Is for American: Letters and Other Characte...                                              1.0   \n",
       "\n",
       "Book                                                달빛 조각사 9 (The Legendary Moonlight Sculptor, #9)  \\\n",
       "Book                                                                                                  \n",
       "!Viva Tequila!: Cocktails, Cooking, and Other A...                                              1.0   \n",
       "!از قر و قمبیل‌های قلمی بی‌قال و قیل                                                            1.0   \n",
       "\"A Problem from Hell\": America and the Age of G...                                              1.0   \n",
       "\"A Woman's Place Is in the Kitchen\": The Evolut...                                              1.0   \n",
       "\"A\" Is for American: Letters and Other Characte...                                              1.0   \n",
       "\n",
       "Book                                                모리와 함께한 화요일    흰  \n",
       "Book                                                                  \n",
       "!Viva Tequila!: Cocktails, Cooking, and Other A...          1.0  1.0  \n",
       "!از قر و قمبیل‌های قلمی بی‌قال و قیل                        1.0  1.0  \n",
       "\"A Problem from Hell\": America and the Age of G...          1.0  1.0  \n",
       "\"A Woman's Place Is in the Kitchen\": The Evolut...          1.0  1.0  \n",
       "\"A\" Is for American: Letters and Other Characte...          1.0  1.0  \n",
       "\n",
       "[5 rows x 98759 columns]"
      ]
     },
     "execution_count": 49,
     "metadata": {},
     "output_type": "execute_result"
    }
   ],
   "source": [
    "book_recommender_df.head()"
   ]
  },
  {
   "cell_type": "code",
   "execution_count": 50,
   "metadata": {},
   "outputs": [
    {
     "name": "stdout",
     "output_type": "stream",
     "text": [
      "- Item recommender DataFrame complete...\n",
      "\n",
      "\n"
     ]
    }
   ],
   "source": [
    "print('- Item recommender DataFrame complete...')\n",
    "print('\\n')"
   ]
  },
  {
   "cell_type": "markdown",
   "metadata": {},
   "source": [
    "### Item Recommender System:"
   ]
  },
  {
   "cell_type": "markdown",
   "metadata": {},
   "source": [
    "### Get Book Function"
   ]
  },
  {
   "cell_type": "code",
   "execution_count": 43,
   "metadata": {},
   "outputs": [],
   "source": [
    "def get_book():\n",
    "    \n",
    "    # create an input to as a user for a book title\n",
    "    title = input('What book are you searching for? ')\n",
    "    \n",
    "    # for any book in our collection of books\n",
    "    for book in book_pivot_table.index:\n",
    "        # if the title inserted (as lowercase) is anywhere in a book title for all the books in our collection\n",
    "        if title.lower() in book.lower():\n",
    "            print('\\n')\n",
    "            # print the book title\n",
    "            print(f\"'{book}'\")\n",
    "            # print the average rating for the book \n",
    "            print(f'Average Rating: {round(book_pivot_table.loc[book, :].mean(),2)}')\n",
    "            # print the amount of ratings for the book \n",
    "            print(f'Number of Ratings: {book_pivot_table.T[book].count()}') \n",
    "            print('\\n')"
   ]
  },
  {
   "cell_type": "code",
   "execution_count": 44,
   "metadata": {
    "scrolled": true
   },
   "outputs": [],
   "source": [
    "# get_book()"
   ]
  },
  {
   "cell_type": "markdown",
   "metadata": {},
   "source": [
    "### Item Based Recommender Function"
   ]
  },
  {
   "cell_type": "code",
   "execution_count": 50,
   "metadata": {},
   "outputs": [],
   "source": [
    "def book_recommendations():\n",
    "    \n",
    "    # create an input to ask a user for a book title \n",
    "    book = input('Enter a book title: ')\n",
    "    \n",
    "    # if the book inserted is in our data\n",
    "    if book in book_recommender_df:\n",
    "        \n",
    "        while True:\n",
    "            try:\n",
    "                # create an input to ask the user how many recommendations they want to view\n",
    "                amount_of_rec = int(input('How many recommendations do you want to view? '))\n",
    "            # if there is no input \n",
    "            except ValueError:\n",
    "                print('\\n')\n",
    "                # print 'Please enter a valid number'\n",
    "                print(\"Please enter a valid number.\")\n",
    "                print('\\n')\n",
    "                continue\n",
    "            else:\n",
    "                break\n",
    "                \n",
    "        print('\\n')\n",
    "        # print the book title\n",
    "        print(f\"'{book}'\")\n",
    "        # print the average rating for the book \n",
    "        print(f'Average Rating: {round(book_pivot_table.loc[book, :].mean(),2)}')\n",
    "        # print the amount of ratings for the book \n",
    "        print(f'Number of Ratings: {book_pivot_table.T[book].count()}')  \n",
    "        print('\\n')\n",
    "\n",
    "        # create a DataFrame using that book and return the given amount of recommendations requested in order of values\n",
    "        book_rec = pd.DataFrame(book_recommender_df[book].sort_values()[1:amount_of_rec+1])\n",
    "        # reset DataFrame index\n",
    "        book_rec.reset_index(inplace=True)\n",
    "        # start the index at 1\n",
    "        book_rec.index += 1 \n",
    "        # rename our column to 'Cosine Similarity'\n",
    "        book_rec.rename(columns={book:'Cosine Similarity'}, inplace=True)\n",
    "        # rename our column to 'Top {amount_of_rec} Book Recommendations'\n",
    "        book_rec.rename(columns={'Book': f'Top {amount_of_rec} Book Recommendations'}, inplace=True)\n",
    "        # return our DataFrame\n",
    "        return book_rec\n",
    "    \n",
    "    else:\n",
    "        # if the book is not found in our data, return 'Sorry, there are no recommendations for that book.'\n",
    "        return 'Sorry, there are no recommendations for that book.'"
   ]
  },
  {
   "cell_type": "code",
   "execution_count": null,
   "metadata": {},
   "outputs": [],
   "source": [
    "book_recommendations()"
   ]
  },
  {
   "cell_type": "markdown",
   "metadata": {},
   "source": [
    "# User-User Collaberative Recommender System\n",
    "> Recommendations based on users with similar ratings"
   ]
  },
  {
   "cell_type": "code",
   "execution_count": 47,
   "metadata": {},
   "outputs": [
    {
     "name": "stdout",
     "output_type": "stream",
     "text": [
      "User Recommender Imports:\n"
     ]
    }
   ],
   "source": [
    "print('User Recommender Imports:')"
   ]
  },
  {
   "cell_type": "markdown",
   "metadata": {},
   "source": [
    "### Pivot Table"
   ]
  },
  {
   "cell_type": "code",
   "execution_count": 49,
   "metadata": {},
   "outputs": [],
   "source": [
    "# pivot our data so the index are users, columns are book titles, and values are the ratings\n",
    "user_pivot_table = pd.pivot_table(df, index='User', columns='Book', values='Rating')"
   ]
  },
  {
   "cell_type": "code",
   "execution_count": 50,
   "metadata": {},
   "outputs": [
    {
     "data": {
      "text/html": [
       "<div>\n",
       "<style scoped>\n",
       "    .dataframe tbody tr th:only-of-type {\n",
       "        vertical-align: middle;\n",
       "    }\n",
       "\n",
       "    .dataframe tbody tr th {\n",
       "        vertical-align: top;\n",
       "    }\n",
       "\n",
       "    .dataframe thead th {\n",
       "        text-align: right;\n",
       "    }\n",
       "</style>\n",
       "<table border=\"1\" class=\"dataframe\">\n",
       "  <thead>\n",
       "    <tr style=\"text-align: right;\">\n",
       "      <th>Book</th>\n",
       "      <th>!Viva Tequila!: Cocktails, Cooking, and Other Agave Adventures</th>\n",
       "      <th>!از قر و قمبیل‌های قلمی بی‌قال و قیل</th>\n",
       "      <th>\"A Problem from Hell\": America and the Age of Genocide</th>\n",
       "      <th>\"A Woman's Place Is in the Kitchen\": The Evolution of Women Chefs</th>\n",
       "      <th>\"A\" Is for American: Letters and Other Characters in the Newly United States</th>\n",
       "      <th>\"A\" Is for Ox: The Collapse of Literacy and the Rise of Violence in an Electronic Age</th>\n",
       "      <th>\"A\" is for Apple (Sophie Green Mystery, #3)</th>\n",
       "      <th>\"B\" Is for Betsy</th>\n",
       "      <th>\"Beat\" Takeshi Kitano</th>\n",
       "      <th>\"Believing Women\" in Islam: Unreading Patriarchal Interpretations of the Qur'an</th>\n",
       "      <th>...</th>\n",
       "      <th>달빛 조각사 41 (The Legendary Moonlight Sculptor, #41)</th>\n",
       "      <th>달빛 조각사 42 (The Legendary Moonlight Sculptor, #42)</th>\n",
       "      <th>달빛 조각사 43 (The Legendary Moonlight Sculptor, #43)</th>\n",
       "      <th>달빛 조각사 5 (The Legendary Moonlight Sculptor, #5)</th>\n",
       "      <th>달빛 조각사 6 (The Legendary Moonlight Sculptor, #6)</th>\n",
       "      <th>달빛 조각사 7 (The Legendary Moonlight Sculptor, #7)</th>\n",
       "      <th>달빛 조각사 8 (The Legendary Moonlight Sculptor, #8)</th>\n",
       "      <th>달빛 조각사 9 (The Legendary Moonlight Sculptor, #9)</th>\n",
       "      <th>모리와 함께한 화요일</th>\n",
       "      <th>흰</th>\n",
       "    </tr>\n",
       "    <tr>\n",
       "      <th>User</th>\n",
       "      <th></th>\n",
       "      <th></th>\n",
       "      <th></th>\n",
       "      <th></th>\n",
       "      <th></th>\n",
       "      <th></th>\n",
       "      <th></th>\n",
       "      <th></th>\n",
       "      <th></th>\n",
       "      <th></th>\n",
       "      <th></th>\n",
       "      <th></th>\n",
       "      <th></th>\n",
       "      <th></th>\n",
       "      <th></th>\n",
       "      <th></th>\n",
       "      <th></th>\n",
       "      <th></th>\n",
       "      <th></th>\n",
       "      <th></th>\n",
       "      <th></th>\n",
       "    </tr>\n",
       "  </thead>\n",
       "  <tbody>\n",
       "    <tr>\n",
       "      <th>1</th>\n",
       "      <td>NaN</td>\n",
       "      <td>NaN</td>\n",
       "      <td>NaN</td>\n",
       "      <td>NaN</td>\n",
       "      <td>NaN</td>\n",
       "      <td>NaN</td>\n",
       "      <td>NaN</td>\n",
       "      <td>NaN</td>\n",
       "      <td>NaN</td>\n",
       "      <td>NaN</td>\n",
       "      <td>...</td>\n",
       "      <td>NaN</td>\n",
       "      <td>NaN</td>\n",
       "      <td>NaN</td>\n",
       "      <td>NaN</td>\n",
       "      <td>NaN</td>\n",
       "      <td>NaN</td>\n",
       "      <td>NaN</td>\n",
       "      <td>NaN</td>\n",
       "      <td>NaN</td>\n",
       "      <td>NaN</td>\n",
       "    </tr>\n",
       "    <tr>\n",
       "      <th>2</th>\n",
       "      <td>NaN</td>\n",
       "      <td>NaN</td>\n",
       "      <td>NaN</td>\n",
       "      <td>NaN</td>\n",
       "      <td>NaN</td>\n",
       "      <td>NaN</td>\n",
       "      <td>NaN</td>\n",
       "      <td>NaN</td>\n",
       "      <td>NaN</td>\n",
       "      <td>NaN</td>\n",
       "      <td>...</td>\n",
       "      <td>NaN</td>\n",
       "      <td>NaN</td>\n",
       "      <td>NaN</td>\n",
       "      <td>NaN</td>\n",
       "      <td>NaN</td>\n",
       "      <td>NaN</td>\n",
       "      <td>NaN</td>\n",
       "      <td>NaN</td>\n",
       "      <td>NaN</td>\n",
       "      <td>NaN</td>\n",
       "    </tr>\n",
       "    <tr>\n",
       "      <th>3</th>\n",
       "      <td>NaN</td>\n",
       "      <td>NaN</td>\n",
       "      <td>NaN</td>\n",
       "      <td>NaN</td>\n",
       "      <td>NaN</td>\n",
       "      <td>NaN</td>\n",
       "      <td>NaN</td>\n",
       "      <td>NaN</td>\n",
       "      <td>NaN</td>\n",
       "      <td>NaN</td>\n",
       "      <td>...</td>\n",
       "      <td>NaN</td>\n",
       "      <td>NaN</td>\n",
       "      <td>NaN</td>\n",
       "      <td>NaN</td>\n",
       "      <td>NaN</td>\n",
       "      <td>NaN</td>\n",
       "      <td>NaN</td>\n",
       "      <td>NaN</td>\n",
       "      <td>NaN</td>\n",
       "      <td>NaN</td>\n",
       "    </tr>\n",
       "    <tr>\n",
       "      <th>4</th>\n",
       "      <td>NaN</td>\n",
       "      <td>NaN</td>\n",
       "      <td>NaN</td>\n",
       "      <td>NaN</td>\n",
       "      <td>NaN</td>\n",
       "      <td>NaN</td>\n",
       "      <td>NaN</td>\n",
       "      <td>NaN</td>\n",
       "      <td>NaN</td>\n",
       "      <td>NaN</td>\n",
       "      <td>...</td>\n",
       "      <td>NaN</td>\n",
       "      <td>NaN</td>\n",
       "      <td>NaN</td>\n",
       "      <td>NaN</td>\n",
       "      <td>NaN</td>\n",
       "      <td>NaN</td>\n",
       "      <td>NaN</td>\n",
       "      <td>NaN</td>\n",
       "      <td>NaN</td>\n",
       "      <td>NaN</td>\n",
       "    </tr>\n",
       "    <tr>\n",
       "      <th>5</th>\n",
       "      <td>NaN</td>\n",
       "      <td>NaN</td>\n",
       "      <td>NaN</td>\n",
       "      <td>NaN</td>\n",
       "      <td>NaN</td>\n",
       "      <td>NaN</td>\n",
       "      <td>NaN</td>\n",
       "      <td>NaN</td>\n",
       "      <td>NaN</td>\n",
       "      <td>NaN</td>\n",
       "      <td>...</td>\n",
       "      <td>NaN</td>\n",
       "      <td>NaN</td>\n",
       "      <td>NaN</td>\n",
       "      <td>NaN</td>\n",
       "      <td>NaN</td>\n",
       "      <td>NaN</td>\n",
       "      <td>NaN</td>\n",
       "      <td>NaN</td>\n",
       "      <td>NaN</td>\n",
       "      <td>NaN</td>\n",
       "    </tr>\n",
       "  </tbody>\n",
       "</table>\n",
       "<p>5 rows × 98759 columns</p>\n",
       "</div>"
      ],
      "text/plain": [
       "Book  !Viva Tequila!: Cocktails, Cooking, and Other Agave Adventures  \\\n",
       "User                                                                   \n",
       "1                                                   NaN                \n",
       "2                                                   NaN                \n",
       "3                                                   NaN                \n",
       "4                                                   NaN                \n",
       "5                                                   NaN                \n",
       "\n",
       "Book  !از قر و قمبیل‌های قلمی بی‌قال و قیل  \\\n",
       "User                                         \n",
       "1                                      NaN   \n",
       "2                                      NaN   \n",
       "3                                      NaN   \n",
       "4                                      NaN   \n",
       "5                                      NaN   \n",
       "\n",
       "Book  \"A Problem from Hell\": America and the Age of Genocide  \\\n",
       "User                                                           \n",
       "1                                                   NaN        \n",
       "2                                                   NaN        \n",
       "3                                                   NaN        \n",
       "4                                                   NaN        \n",
       "5                                                   NaN        \n",
       "\n",
       "Book  \"A Woman's Place Is in the Kitchen\": The Evolution of Women Chefs  \\\n",
       "User                                                                      \n",
       "1                                                   NaN                   \n",
       "2                                                   NaN                   \n",
       "3                                                   NaN                   \n",
       "4                                                   NaN                   \n",
       "5                                                   NaN                   \n",
       "\n",
       "Book  \"A\" Is for American: Letters and Other Characters in the Newly United States  \\\n",
       "User                                                                                 \n",
       "1                                                   NaN                              \n",
       "2                                                   NaN                              \n",
       "3                                                   NaN                              \n",
       "4                                                   NaN                              \n",
       "5                                                   NaN                              \n",
       "\n",
       "Book  \"A\" Is for Ox: The Collapse of Literacy and the Rise of Violence in an Electronic Age  \\\n",
       "User                                                                                          \n",
       "1                                                   NaN                                       \n",
       "2                                                   NaN                                       \n",
       "3                                                   NaN                                       \n",
       "4                                                   NaN                                       \n",
       "5                                                   NaN                                       \n",
       "\n",
       "Book  \"A\" is for Apple (Sophie Green Mystery, #3)  \"B\" Is for Betsy  \\\n",
       "User                                                                  \n",
       "1                                             NaN               NaN   \n",
       "2                                             NaN               NaN   \n",
       "3                                             NaN               NaN   \n",
       "4                                             NaN               NaN   \n",
       "5                                             NaN               NaN   \n",
       "\n",
       "Book  \"Beat\" Takeshi Kitano  \\\n",
       "User                          \n",
       "1                       NaN   \n",
       "2                       NaN   \n",
       "3                       NaN   \n",
       "4                       NaN   \n",
       "5                       NaN   \n",
       "\n",
       "Book  \"Believing Women\" in Islam: Unreading Patriarchal Interpretations of the Qur'an  \\\n",
       "User                                                                                    \n",
       "1                                                   NaN                                 \n",
       "2                                                   NaN                                 \n",
       "3                                                   NaN                                 \n",
       "4                                                   NaN                                 \n",
       "5                                                   NaN                                 \n",
       "\n",
       "Book ...  달빛 조각사 41 (The Legendary Moonlight Sculptor, #41)  \\\n",
       "User ...                                                      \n",
       "1    ...                                                NaN   \n",
       "2    ...                                                NaN   \n",
       "3    ...                                                NaN   \n",
       "4    ...                                                NaN   \n",
       "5    ...                                                NaN   \n",
       "\n",
       "Book  달빛 조각사 42 (The Legendary Moonlight Sculptor, #42)  \\\n",
       "User                                                      \n",
       "1                                                   NaN   \n",
       "2                                                   NaN   \n",
       "3                                                   NaN   \n",
       "4                                                   NaN   \n",
       "5                                                   NaN   \n",
       "\n",
       "Book  달빛 조각사 43 (The Legendary Moonlight Sculptor, #43)  \\\n",
       "User                                                      \n",
       "1                                                   NaN   \n",
       "2                                                   NaN   \n",
       "3                                                   NaN   \n",
       "4                                                   NaN   \n",
       "5                                                   NaN   \n",
       "\n",
       "Book  달빛 조각사 5 (The Legendary Moonlight Sculptor, #5)  \\\n",
       "User                                                    \n",
       "1                                                 NaN   \n",
       "2                                                 NaN   \n",
       "3                                                 NaN   \n",
       "4                                                 NaN   \n",
       "5                                                 NaN   \n",
       "\n",
       "Book  달빛 조각사 6 (The Legendary Moonlight Sculptor, #6)  \\\n",
       "User                                                    \n",
       "1                                                 NaN   \n",
       "2                                                 NaN   \n",
       "3                                                 NaN   \n",
       "4                                                 NaN   \n",
       "5                                                 NaN   \n",
       "\n",
       "Book  달빛 조각사 7 (The Legendary Moonlight Sculptor, #7)  \\\n",
       "User                                                    \n",
       "1                                                 NaN   \n",
       "2                                                 NaN   \n",
       "3                                                 NaN   \n",
       "4                                                 NaN   \n",
       "5                                                 NaN   \n",
       "\n",
       "Book  달빛 조각사 8 (The Legendary Moonlight Sculptor, #8)  \\\n",
       "User                                                    \n",
       "1                                                 NaN   \n",
       "2                                                 NaN   \n",
       "3                                                 NaN   \n",
       "4                                                 NaN   \n",
       "5                                                 NaN   \n",
       "\n",
       "Book  달빛 조각사 9 (The Legendary Moonlight Sculptor, #9)  모리와 함께한 화요일   흰  \n",
       "User                                                                    \n",
       "1                                                 NaN          NaN NaN  \n",
       "2                                                 NaN          NaN NaN  \n",
       "3                                                 NaN          NaN NaN  \n",
       "4                                                 NaN          NaN NaN  \n",
       "5                                                 NaN          NaN NaN  \n",
       "\n",
       "[5 rows x 98759 columns]"
      ]
     },
     "execution_count": 50,
     "metadata": {},
     "output_type": "execute_result"
    }
   ],
   "source": [
    "user_pivot_table.head()"
   ]
  },
  {
   "cell_type": "code",
   "execution_count": 51,
   "metadata": {},
   "outputs": [
    {
     "name": "stdout",
     "output_type": "stream",
     "text": [
      "- User pivot table complete...\n"
     ]
    }
   ],
   "source": [
    "print('- User pivot table complete...')"
   ]
  },
  {
   "cell_type": "markdown",
   "metadata": {},
   "source": [
    "### Sparse Matrix"
   ]
  },
  {
   "cell_type": "code",
   "execution_count": 52,
   "metadata": {},
   "outputs": [],
   "source": [
    "# create a sparse_matrix from our pivot table and fill the NaN values with 0 which will get ignored\n",
    "# user_sparse_pivot = sparse.csr_matrix(user_pivot_table.fillna(0))"
   ]
  },
  {
   "cell_type": "code",
   "execution_count": 53,
   "metadata": {},
   "outputs": [],
   "source": [
    "# sparse.save_npz('user_sparse_pivot.npz', user_sparse_pivot )"
   ]
  },
  {
   "cell_type": "code",
   "execution_count": 54,
   "metadata": {},
   "outputs": [],
   "source": [
    "# import sparse_pivot_table file\n",
    "user_sparse_pivot = sparse.load_npz('user_sparse_pivot.npz')"
   ]
  },
  {
   "cell_type": "code",
   "execution_count": 55,
   "metadata": {},
   "outputs": [
    {
     "name": "stdout",
     "output_type": "stream",
     "text": [
      "- User sparse pivot loaded...\n"
     ]
    }
   ],
   "source": [
    "print('- User sparse pivot loaded...')"
   ]
  },
  {
   "cell_type": "markdown",
   "metadata": {},
   "source": [
    "### Cosine Calculations"
   ]
  },
  {
   "cell_type": "code",
   "execution_count": 52,
   "metadata": {},
   "outputs": [
    {
     "ename": "NameError",
     "evalue": "name 'user_sparse_pivot' is not defined",
     "output_type": "error",
     "traceback": [
      "\u001b[0;31m---------------------------------------------------------------------------\u001b[0m",
      "\u001b[0;31mNameError\u001b[0m                                 Traceback (most recent call last)",
      "\u001b[0;32m<ipython-input-52-88188ea50817>\u001b[0m in \u001b[0;36m<module>\u001b[0;34m\u001b[0m\n\u001b[1;32m      1\u001b[0m \u001b[0;31m# user pairwise_distance to calculate cosine distance on the sparse_pivot data\u001b[0m\u001b[0;34m\u001b[0m\u001b[0;34m\u001b[0m\u001b[0;34m\u001b[0m\u001b[0m\n\u001b[0;32m----> 2\u001b[0;31m \u001b[0muser_recommender\u001b[0m \u001b[0;34m=\u001b[0m \u001b[0mpairwise_distances\u001b[0m\u001b[0;34m(\u001b[0m\u001b[0muser_sparse_pivot\u001b[0m\u001b[0;34m,\u001b[0m \u001b[0mmetric\u001b[0m\u001b[0;34m=\u001b[0m\u001b[0;34m'cosine'\u001b[0m\u001b[0;34m)\u001b[0m\u001b[0;34m\u001b[0m\u001b[0;34m\u001b[0m\u001b[0m\n\u001b[0m",
      "\u001b[0;31mNameError\u001b[0m: name 'user_sparse_pivot' is not defined"
     ]
    }
   ],
   "source": [
    "# user pairwise_distance to calculate cosine distance on the sparse_pivot data\n",
    "user_recommender = pairwise_distances(user_sparse_pivot, metric='cosine')"
   ]
  },
  {
   "cell_type": "code",
   "execution_count": 57,
   "metadata": {},
   "outputs": [
    {
     "data": {
      "text/plain": [
       "array([[0.        , 1.        , 1.        , ..., 1.        , 1.        ,\n",
       "        1.        ],\n",
       "       [1.        , 0.        , 1.        , ..., 0.96011604, 0.96152401,\n",
       "        1.        ],\n",
       "       [1.        , 1.        , 0.        , ..., 1.        , 1.        ,\n",
       "        1.        ],\n",
       "       ...,\n",
       "       [1.        , 0.96011604, 1.        , ..., 0.        , 1.        ,\n",
       "        1.        ],\n",
       "       [1.        , 0.96152401, 1.        , ..., 1.        , 0.        ,\n",
       "        1.        ],\n",
       "       [1.        , 1.        , 1.        , ..., 1.        , 1.        ,\n",
       "        0.        ]])"
      ]
     },
     "execution_count": 57,
     "metadata": {},
     "output_type": "execute_result"
    }
   ],
   "source": [
    "user_recommender"
   ]
  },
  {
   "cell_type": "code",
   "execution_count": 58,
   "metadata": {},
   "outputs": [
    {
     "name": "stdout",
     "output_type": "stream",
     "text": [
      "- User cosine calculations complete...\n"
     ]
    }
   ],
   "source": [
    "print('- User cosine calculations complete...')"
   ]
  },
  {
   "cell_type": "markdown",
   "metadata": {},
   "source": [
    "### User DataFrame"
   ]
  },
  {
   "cell_type": "code",
   "execution_count": 59,
   "metadata": {},
   "outputs": [],
   "source": [
    "# insert the cosine distance array into a DataFrame with users as the index and columns \n",
    "user_recommender_df = pd.DataFrame(user_recommender, index=user_pivot_table.index, columns=user_pivot_table.index)"
   ]
  },
  {
   "cell_type": "code",
   "execution_count": 60,
   "metadata": {},
   "outputs": [
    {
     "data": {
      "text/html": [
       "<div>\n",
       "<style scoped>\n",
       "    .dataframe tbody tr th:only-of-type {\n",
       "        vertical-align: middle;\n",
       "    }\n",
       "\n",
       "    .dataframe tbody tr th {\n",
       "        vertical-align: top;\n",
       "    }\n",
       "\n",
       "    .dataframe thead th {\n",
       "        text-align: right;\n",
       "    }\n",
       "</style>\n",
       "<table border=\"1\" class=\"dataframe\">\n",
       "  <thead>\n",
       "    <tr style=\"text-align: right;\">\n",
       "      <th>User</th>\n",
       "      <th>1</th>\n",
       "      <th>2</th>\n",
       "      <th>3</th>\n",
       "      <th>4</th>\n",
       "      <th>5</th>\n",
       "      <th>6</th>\n",
       "      <th>7</th>\n",
       "      <th>8</th>\n",
       "      <th>9</th>\n",
       "      <th>12</th>\n",
       "      <th>...</th>\n",
       "      <th>24973</th>\n",
       "      <th>24980</th>\n",
       "      <th>24982</th>\n",
       "      <th>24983</th>\n",
       "      <th>24984</th>\n",
       "      <th>24989</th>\n",
       "      <th>24991</th>\n",
       "      <th>24993</th>\n",
       "      <th>24997</th>\n",
       "      <th>25000</th>\n",
       "    </tr>\n",
       "    <tr>\n",
       "      <th>User</th>\n",
       "      <th></th>\n",
       "      <th></th>\n",
       "      <th></th>\n",
       "      <th></th>\n",
       "      <th></th>\n",
       "      <th></th>\n",
       "      <th></th>\n",
       "      <th></th>\n",
       "      <th></th>\n",
       "      <th></th>\n",
       "      <th></th>\n",
       "      <th></th>\n",
       "      <th></th>\n",
       "      <th></th>\n",
       "      <th></th>\n",
       "      <th></th>\n",
       "      <th></th>\n",
       "      <th></th>\n",
       "      <th></th>\n",
       "      <th></th>\n",
       "      <th></th>\n",
       "    </tr>\n",
       "  </thead>\n",
       "  <tbody>\n",
       "    <tr>\n",
       "      <th>1</th>\n",
       "      <td>0.000000</td>\n",
       "      <td>1.0</td>\n",
       "      <td>1.0</td>\n",
       "      <td>1.0</td>\n",
       "      <td>0.929601</td>\n",
       "      <td>1.000000</td>\n",
       "      <td>0.969690</td>\n",
       "      <td>1.000000</td>\n",
       "      <td>1.000000</td>\n",
       "      <td>1.000000</td>\n",
       "      <td>...</td>\n",
       "      <td>1.000000</td>\n",
       "      <td>1.0</td>\n",
       "      <td>1.0</td>\n",
       "      <td>1.000000</td>\n",
       "      <td>1.000000</td>\n",
       "      <td>1.0</td>\n",
       "      <td>1.0</td>\n",
       "      <td>1.000000</td>\n",
       "      <td>1.000000</td>\n",
       "      <td>1.0</td>\n",
       "    </tr>\n",
       "    <tr>\n",
       "      <th>2</th>\n",
       "      <td>1.000000</td>\n",
       "      <td>0.0</td>\n",
       "      <td>1.0</td>\n",
       "      <td>1.0</td>\n",
       "      <td>1.000000</td>\n",
       "      <td>0.924796</td>\n",
       "      <td>0.921501</td>\n",
       "      <td>1.000000</td>\n",
       "      <td>0.950180</td>\n",
       "      <td>0.962468</td>\n",
       "      <td>...</td>\n",
       "      <td>0.845931</td>\n",
       "      <td>1.0</td>\n",
       "      <td>1.0</td>\n",
       "      <td>0.946008</td>\n",
       "      <td>0.960023</td>\n",
       "      <td>1.0</td>\n",
       "      <td>1.0</td>\n",
       "      <td>0.960116</td>\n",
       "      <td>0.961524</td>\n",
       "      <td>1.0</td>\n",
       "    </tr>\n",
       "    <tr>\n",
       "      <th>3</th>\n",
       "      <td>1.000000</td>\n",
       "      <td>1.0</td>\n",
       "      <td>0.0</td>\n",
       "      <td>1.0</td>\n",
       "      <td>1.000000</td>\n",
       "      <td>1.000000</td>\n",
       "      <td>1.000000</td>\n",
       "      <td>0.970568</td>\n",
       "      <td>0.978915</td>\n",
       "      <td>1.000000</td>\n",
       "      <td>...</td>\n",
       "      <td>1.000000</td>\n",
       "      <td>1.0</td>\n",
       "      <td>1.0</td>\n",
       "      <td>1.000000</td>\n",
       "      <td>1.000000</td>\n",
       "      <td>1.0</td>\n",
       "      <td>1.0</td>\n",
       "      <td>1.000000</td>\n",
       "      <td>1.000000</td>\n",
       "      <td>1.0</td>\n",
       "    </tr>\n",
       "    <tr>\n",
       "      <th>4</th>\n",
       "      <td>1.000000</td>\n",
       "      <td>1.0</td>\n",
       "      <td>1.0</td>\n",
       "      <td>0.0</td>\n",
       "      <td>1.000000</td>\n",
       "      <td>1.000000</td>\n",
       "      <td>1.000000</td>\n",
       "      <td>1.000000</td>\n",
       "      <td>1.000000</td>\n",
       "      <td>1.000000</td>\n",
       "      <td>...</td>\n",
       "      <td>1.000000</td>\n",
       "      <td>1.0</td>\n",
       "      <td>1.0</td>\n",
       "      <td>1.000000</td>\n",
       "      <td>1.000000</td>\n",
       "      <td>1.0</td>\n",
       "      <td>1.0</td>\n",
       "      <td>1.000000</td>\n",
       "      <td>1.000000</td>\n",
       "      <td>1.0</td>\n",
       "    </tr>\n",
       "    <tr>\n",
       "      <th>5</th>\n",
       "      <td>0.929601</td>\n",
       "      <td>1.0</td>\n",
       "      <td>1.0</td>\n",
       "      <td>1.0</td>\n",
       "      <td>0.000000</td>\n",
       "      <td>1.000000</td>\n",
       "      <td>1.000000</td>\n",
       "      <td>1.000000</td>\n",
       "      <td>0.971922</td>\n",
       "      <td>1.000000</td>\n",
       "      <td>...</td>\n",
       "      <td>1.000000</td>\n",
       "      <td>1.0</td>\n",
       "      <td>1.0</td>\n",
       "      <td>1.000000</td>\n",
       "      <td>1.000000</td>\n",
       "      <td>1.0</td>\n",
       "      <td>1.0</td>\n",
       "      <td>1.000000</td>\n",
       "      <td>1.000000</td>\n",
       "      <td>1.0</td>\n",
       "    </tr>\n",
       "  </tbody>\n",
       "</table>\n",
       "<p>5 rows × 8781 columns</p>\n",
       "</div>"
      ],
      "text/plain": [
       "User     1      2      3      4         5         6         7         8      \\\n",
       "User                                                                          \n",
       "1     0.000000    1.0    1.0    1.0  0.929601  1.000000  0.969690  1.000000   \n",
       "2     1.000000    0.0    1.0    1.0  1.000000  0.924796  0.921501  1.000000   \n",
       "3     1.000000    1.0    0.0    1.0  1.000000  1.000000  1.000000  0.970568   \n",
       "4     1.000000    1.0    1.0    0.0  1.000000  1.000000  1.000000  1.000000   \n",
       "5     0.929601    1.0    1.0    1.0  0.000000  1.000000  1.000000  1.000000   \n",
       "\n",
       "User     9         12     ...       24973  24980  24982     24983     24984  \\\n",
       "User                      ...                                                 \n",
       "1     1.000000  1.000000  ...    1.000000    1.0    1.0  1.000000  1.000000   \n",
       "2     0.950180  0.962468  ...    0.845931    1.0    1.0  0.946008  0.960023   \n",
       "3     0.978915  1.000000  ...    1.000000    1.0    1.0  1.000000  1.000000   \n",
       "4     1.000000  1.000000  ...    1.000000    1.0    1.0  1.000000  1.000000   \n",
       "5     0.971922  1.000000  ...    1.000000    1.0    1.0  1.000000  1.000000   \n",
       "\n",
       "User  24989  24991     24993     24997  25000  \n",
       "User                                           \n",
       "1       1.0    1.0  1.000000  1.000000    1.0  \n",
       "2       1.0    1.0  0.960116  0.961524    1.0  \n",
       "3       1.0    1.0  1.000000  1.000000    1.0  \n",
       "4       1.0    1.0  1.000000  1.000000    1.0  \n",
       "5       1.0    1.0  1.000000  1.000000    1.0  \n",
       "\n",
       "[5 rows x 8781 columns]"
      ]
     },
     "execution_count": 60,
     "metadata": {},
     "output_type": "execute_result"
    }
   ],
   "source": [
    "user_recommender_df.head()"
   ]
  },
  {
   "cell_type": "code",
   "execution_count": 61,
   "metadata": {},
   "outputs": [
    {
     "name": "stdout",
     "output_type": "stream",
     "text": [
      "- User recommender system DataFrame complete...\n",
      "\n",
      "\n"
     ]
    }
   ],
   "source": [
    "print('- User recommender system DataFrame complete...')\n",
    "print('\\n')"
   ]
  },
  {
   "cell_type": "markdown",
   "metadata": {},
   "source": [
    "### User Recommender System:"
   ]
  },
  {
   "cell_type": "markdown",
   "metadata": {},
   "source": [
    "### Similar Users Function"
   ]
  },
  {
   "cell_type": "code",
   "execution_count": 62,
   "metadata": {},
   "outputs": [],
   "source": [
    "def similar_users():\n",
    "    \n",
    "    while True:\n",
    "        try:\n",
    "            # create an input to ask a user for a userID \n",
    "            user = int(input('Enter a userID: '))\n",
    "        # if there is no input\n",
    "        except ValueError:\n",
    "            print('\\n')\n",
    "            # print \"Please enter a valid userID.\"\n",
    "            print(\"Please enter a valid userID.\")\n",
    "            continue\n",
    "        else:\n",
    "            break\n",
    "        \n",
    "    while True:\n",
    "        try:\n",
    "            # create an input to ask a user how many similar users they want to view\n",
    "            amount_of_users = int(input('How many similar users do you want to view? '))\n",
    "        # if there is no input\n",
    "        except ValueError:\n",
    "            print('\\n')\n",
    "            # print \"Please enter a valid number.\"\n",
    "            print(\"Please enter a valid number.\")\n",
    "            continue\n",
    "        else:\n",
    "            break\n",
    "  \n",
    "    while True:\n",
    "        try:\n",
    "            # create an input to ask a user how many books per user they want to view\n",
    "            amount_of_books_to_show = int(input('How many books per user do you want to view? '))\n",
    "        # if there is no input\n",
    "        except ValueError:\n",
    "            print('\\n')\n",
    "            # print \"Please enter a valid number.\"\n",
    "            print(\"Please enter a valid number.\")\n",
    "            continue\n",
    "        else:\n",
    "            break\n",
    "    \n",
    "    # 10 is the maximum similar users a user is able to view\n",
    "    # if the amount of similar users the user wants to view is less than 10\n",
    "    if amount_of_users <= 10:\n",
    "        # and the user is in our data\n",
    "        if user in user_recommender_df:\n",
    "            print('\\n')\n",
    "            print('-----------------------------------------------------------------------------------------------')\n",
    "            # print the main userID\n",
    "            print(f'Main User - {user}')\n",
    "            print('-----------------------------------------------------------------------------------------------')\n",
    "            print('\\n')\n",
    "            # print the similar userID's\n",
    "            print(f\"'User {user}'\")\n",
    "            # print the average rating given by each user \n",
    "            print('Average Rating:', round(user_pivot_table.loc[user, :].mean(),2))\n",
    "            # print the amount of ratings given by each user\n",
    "            print('Number of Ratings:', user_pivot_table.T[user].count()) \n",
    "            print('\\n')\n",
    "\n",
    "            # create a dataFrame for the main user with their books\n",
    "            main_user_based_df = pd.DataFrame(user_pivot_table.loc[user].dropna().sort_values(ascending=False))\n",
    "            # rename columns to 'Rating'\n",
    "            main_user_based_df.rename(columns={user:'Rating'}, inplace=True)\n",
    "            # reset index \n",
    "            main_user_based_df.reset_index(inplace=True)\n",
    "            # start index at 1\n",
    "            main_user_based_df.index += 1 \n",
    "            # print the DataFrame from the first book to the given amount of books to show\n",
    "            print(main_user_based_df[:amount_of_books_to_show])\n",
    "\n",
    "            print('\\n')\n",
    "            \n",
    "            # if the amount of similar users desired to view is 1\n",
    "            if amount_of_users == 1:\n",
    "                print('-----------------------------------------------------------------------------------------------')\n",
    "                # print 'Most Similar User'\n",
    "                print('Most Similar User')\n",
    "            else:\n",
    "                print('-----------------------------------------------------------------------------------------------')\n",
    "                # print '{amount_of_users} Most Similar Users'\n",
    "                print(f'{amount_of_users} Most Similar Users')\n",
    "                \n",
    "            print('-----------------------------------------------------------------------------------------------')\n",
    "            print('\\n')\n",
    "\n",
    "            for i in range(amount_of_users):\n",
    "                # get all similar users for the main user\n",
    "                similar_users = user_recommender_df[user].sort_values()[1:11].index[i]\n",
    "                # print userID for each user \n",
    "                print(f\"{i+1}: 'User {user_recommender_df[user].sort_values()[1:11].index[i]}'\")   \n",
    "                # print the average rating given by each user\n",
    "                print(f'Average Rating: {round(user_pivot_table.loc[similar_users, :].mean(),2)}')\n",
    "                # print the amount of ratings given by each user\n",
    "                print(f'Number of Ratings: {user_pivot_table.T[similar_users].count()}') \n",
    "                print('\\n')\n",
    "\n",
    "                # turn the similar users list into a DataFrame\n",
    "                similar_users_df = pd.DataFrame(user_pivot_table.loc[similar_users].dropna().sort_values(ascending=False))\n",
    "                # reset index\n",
    "                similar_users_df.reset_index(inplace=True)\n",
    "                # start index at 1\n",
    "                similar_users_df.index += 1 \n",
    "                # rename column to 'Rating'\n",
    "                similar_users_df.rename(columns={similar_users:'Rating'}, inplace=True)\n",
    "                # print the DataFrame from the first book to the given amount of books to show\n",
    "                print(similar_users_df[:amount_of_books_to_show])\n",
    "                print('\\n')\n",
    "                print('-----------------------------------------------------------------------------------------------')\n",
    "                print('\\n')\n",
    "                \n",
    "        else:\n",
    "            print('\\n')\n",
    "            # if there are no recommendations for that user or if the user does not exist, print \"Sorry, there are no recommendations for user '{user}'\"\n",
    "            print(f\"Sorry, there are no recommendations for user '{user}'\")\n",
    "    else:\n",
    "        print('\\n')\n",
    "        # if a user attempts to view more than 10 similar users, print 'Sorry, the maximum amount of users to compare is 10'\n",
    "        print('Sorry, the maximum amount of users to compare is 10')"
   ]
  },
  {
   "cell_type": "code",
   "execution_count": 63,
   "metadata": {
    "scrolled": false
   },
   "outputs": [],
   "source": [
    "# similar_users()"
   ]
  },
  {
   "cell_type": "markdown",
   "metadata": {},
   "source": [
    "### User Based Recommender Function"
   ]
  },
  {
   "cell_type": "code",
   "execution_count": 64,
   "metadata": {},
   "outputs": [],
   "source": [
    "def user_based_recommender_system():\n",
    "    \n",
    "    while True:\n",
    "        try:\n",
    "            # create an input to ask a user for a userID \n",
    "            user = int(input('Enter a userID: '))\n",
    "        # if there is no input\n",
    "        except ValueError:\n",
    "            print('\\n')\n",
    "            # print \"Please enter a valid userID.\"\n",
    "            print(\"Please enter a valid userID.\")\n",
    "            continue\n",
    "        else:\n",
    "            break\n",
    "\n",
    "    try:\n",
    "        # create a loop and retreive the books for a give user\n",
    "        main_user = [book for book in user_pivot_table.loc[user].dropna().sort_values(ascending=False).index]\n",
    "        \n",
    "        lst_of_users = []\n",
    "        lst_of_books = [] \n",
    "        for i in range(10):\n",
    "            # retrieve the list of similar users \n",
    "            users = user_recommender_df[user].sort_values()[1:11].index[i]\n",
    "            # append similar users to list \n",
    "            lst_of_users.append(users)\n",
    "            # loop over the similar users and retrieve the books for each user\n",
    "            user_books = [book for book in user_pivot_table.loc[lst_of_users[i]].dropna().sort_values(ascending=False).index]\n",
    "            # append those books to list\n",
    "            lst_of_books.append(user_books)\n",
    "        \n",
    "        # combine the list of books to one list of all the books \n",
    "        combined = [books for book in lst_of_books for books in book]\n",
    "        \n",
    "        # create a filtered list than gets rid of all duplicate books\n",
    "        filtered_combined = []\n",
    "        # for every book in the combined list\n",
    "        for books in combined:\n",
    "            # if the book is not in the filtered_combined list\n",
    "            if books not in filtered_combined:\n",
    "                # append that book to filterd_combined list\n",
    "                filtered_combined.append(books)\n",
    "                \n",
    "        books_to_rec = []\n",
    "        # for every book in the filtered list\n",
    "        for book in filtered_combined:\n",
    "            # if that book is not in the main users list\n",
    "            if book not in main_user:\n",
    "                # append that book to books_to_rec\n",
    "                books_to_rec.append(book)\n",
    "                \n",
    "        # create a DataFrame with all the books to recommend the main user\n",
    "        final_df = pd.DataFrame(books_to_rec)\n",
    "        # start index at 1\n",
    "        final_df.index += 1\n",
    "        # rename column to \" Top {len(final_df)} Recommendations for user '{user}'\"\n",
    "        final_df.rename(columns={0: f\" Top {len(final_df)} Recommendations for user '{user}'\"}, inplace=True)\n",
    "\n",
    "        print('\\n')\n",
    "        # print user\n",
    "        print(f\"'User {user}'\")\n",
    "        print('\\n')\n",
    "        # return the final DataFrame\n",
    "        return final_df\n",
    "    except:\n",
    "        # if the user is not found in our data, print \"User '{user}' not available\"\n",
    "        return f\"User '{user}' not available\""
   ]
  },
  {
   "cell_type": "code",
   "execution_count": 65,
   "metadata": {
    "scrolled": false
   },
   "outputs": [],
   "source": [
    "# user_based_recommender_system()"
   ]
  },
  {
   "cell_type": "code",
   "execution_count": 66,
   "metadata": {},
   "outputs": [
    {
     "name": "stdout",
     "output_type": "stream",
     "text": [
      "Loading complete.\n"
     ]
    }
   ],
   "source": [
    "print('Loading complete.')"
   ]
  }
 ],
 "metadata": {
  "kernelspec": {
   "display_name": "Python 3",
   "language": "python",
   "name": "python3"
  },
  "language_info": {
   "codemirror_mode": {
    "name": "ipython",
    "version": 3
   },
   "file_extension": ".py",
   "mimetype": "text/x-python",
   "name": "python",
   "nbconvert_exporter": "python",
   "pygments_lexer": "ipython3",
   "version": "3.7.1"
  }
 },
 "nbformat": 4,
 "nbformat_minor": 2
}
